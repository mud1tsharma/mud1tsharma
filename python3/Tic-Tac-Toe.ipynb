{
 "cells": [
  {
   "cell_type": "markdown",
   "metadata": {},
   "source": [
    "## TIC-TAC-TOE\n",
    "\n",
    "\\- Mudit Sharma"
   ]
  },
  {
   "cell_type": "code",
   "execution_count": 1,
   "metadata": {},
   "outputs": [],
   "source": [
    "def winningCondition (board):\n",
    "    win = ['XXX', '000']\n",
    "    if ''.join(board[:3]) in win:\n",
    "        return True\n",
    "    elif ''.join(board[3:6]) in win:\n",
    "        return True\n",
    "    elif ''.join(board[6:]) in win:\n",
    "        return True\n",
    "    elif board[0] + board[3] + board[6] in win:\n",
    "        return True\n",
    "    elif board[1] + board[4] + board[7] in win:\n",
    "        return True\n",
    "    elif board[2] + board[5] + board[8] in win:\n",
    "        return True\n",
    "    else:\n",
    "        return False"
   ]
  },
  {
   "cell_type": "code",
   "execution_count": 2,
   "metadata": {},
   "outputs": [],
   "source": [
    "from IPython.display import clear_output\n",
    "\n",
    "def gameLogic (board, P1): \n",
    "    \n",
    "    row1 = (board[:3])\n",
    "    row2 = (board[3:6])\n",
    "    row3 = (board[6:9])\n",
    "    \n",
    "    print ('\\n', row1, '\\n', row2, '\\n', row3)\n",
    "    \n",
    "    playerMark = {True:['X', 'Player 1'], False: ['0', 'Player 2']}\n",
    "    \n",
    "    validPositions = [i+1 for i,x in enumerate(board) if x == '-']\n",
    "    \n",
    "    position = 0\n",
    "            \n",
    "    while int(position) not in validPositions:\n",
    "        \n",
    "        if P1:\n",
    "            position = input(\"\\nPlayer 1, Choose where you want to place an X. Your options are \" + str(validPositions))\n",
    "        \n",
    "        else:\n",
    "            position = input(\"\\nPlayer 2, Choose where you want to place an 0. Your options are \" + str(validPositions))\n",
    "    \n",
    "    board[int(position)-1] = playerMark[P1][0]\n",
    "    clear_output()\n",
    "    \n",
    "    if winningCondition (board):\n",
    "        row1 = (board[:3])\n",
    "        row2 = (board[3:6])\n",
    "        row3 = (board[6:9])\n",
    "        print ('\\n', row1, '\\n', row2, '\\n', row3)\n",
    "        print (\"\\nCongratulations \" + playerMark[P1][1] + '!')\n",
    "        return ' '\n",
    "    else:\n",
    "        gameLogic(board, P1 == False)"
   ]
  },
  {
   "cell_type": "code",
   "execution_count": 3,
   "metadata": {},
   "outputs": [
    {
     "name": "stdout",
     "output_type": "stream",
     "text": [
      "\n",
      " ['X', 'X', 'X'] \n",
      " ['-', '-', '-'] \n",
      " ['0', '0', '-']\n",
      "\n",
      "Congratulations Player 1!\n"
     ]
    }
   ],
   "source": [
    "gameLogic(['-']*10, True)"
   ]
  }
 ],
 "metadata": {
  "kernelspec": {
   "display_name": "Python 3",
   "language": "python",
   "name": "python3"
  },
  "language_info": {
   "codemirror_mode": {
    "name": "ipython",
    "version": 3
   },
   "file_extension": ".py",
   "mimetype": "text/x-python",
   "name": "python",
   "nbconvert_exporter": "python",
   "pygments_lexer": "ipython3",
   "version": "3.8.5"
  }
 },
 "nbformat": 4,
 "nbformat_minor": 4
}
