{
 "cells": [
  {
   "cell_type": "markdown",
   "metadata": {},
   "source": [
    "## TIC-TAC-TOE\n",
    "\n",
    "\\- Mudit Sharma"
   ]
  },
  {
   "cell_type": "code",
   "execution_count": 1,
   "metadata": {},
   "outputs": [],
   "source": [
    "# Define a helper function to check if either player has won the game\n",
    "def winningCondition (row1, row2, row3):\n",
    "        \n",
    "    board = row1 + row2 + row3\n",
    "    win = [['X','X','X'], ['O','O','O'], ('X','X','X'), ('O','O','O')]\n",
    "    columns = [x for x in zip(row1, row2, row3)]\n",
    "        \n",
    "    # Check if either row contains a winning combination\n",
    "    if row1 in win or row2 in win or row3 in win:\n",
    "        return True\n",
    "    \n",
    "    # Check if either column contains a winning combination  \n",
    "    elif True in [columns[i] in win for i in range(0,3)]:\n",
    "        return True\n",
    "\n",
    "    # Check if either diagonal contains a winning combination\n",
    "    elif board[0] + board[4] + board[8] in ['XXX','OOO']:\n",
    "        return True\n",
    "    \n",
    "    # Check if either diagonal contains a winning combination\n",
    "    elif board[2] + board[4] + board[6] in ['XXX','OOO']:\n",
    "        return True\n",
    "    \n",
    "    elif len([x for x in board if x != '-']) == 9:\n",
    "        return 'Draw'\n",
    "    \n",
    "    # The board does not contain a winning condition\n",
    "    else:\n",
    "        return False"
   ]
  },
  {
   "cell_type": "code",
   "execution_count": 2,
   "metadata": {},
   "outputs": [],
   "source": [
    "from IPython.display import clear_output\n",
    "\n",
    "# Function arguments include the gameboard, and a boolean that indicates whether or not it's Player 1's turn\n",
    "def gameLogic (board, P1): \n",
    "    \n",
    "    # Divide the gameboard into its 3 constituent rows\n",
    "    row1 = board[:3]\n",
    "    row2 = board[3:6]\n",
    "    row3 = board[6:9]\n",
    "    \n",
    "    # Display the gameboard\n",
    "    print ('\\n', row1, '\\n', row2, '\\n', row3)\n",
    "    \n",
    "    # Define a dictionary to store the player's mark, and name\n",
    "    playerMark = {True:['X', 'Player 1'], False: ['O', 'Player 2']}\n",
    "    \n",
    "    # A list containing available cells\n",
    "    validPositions = [i+1 for i,x in enumerate(board) if x == '-']\n",
    "    \n",
    "    # Sets position to 0, an invalid position for the following while loop\n",
    "    position = 0\n",
    "            \n",
    "    # While position is an invalid number (0 at first):\n",
    "    while int(position) not in validPositions:\n",
    "        \n",
    "        # Player 1 plays\n",
    "        if P1:\n",
    "            position = input(\"\\nPlayer 1, Choose where you want to place an X. Your options are \" + str(validPositions))\n",
    "        \n",
    "        # Player 2 plays\n",
    "        else:\n",
    "            position = input(\"\\nPlayer 2, Choose where you want to place an O. Your options are \" + str(validPositions))\n",
    "    \n",
    "    # Enter the player's mark into their chosen position\n",
    "    board[int(position)-1] = playerMark[P1][0]\n",
    "    clear_output()\n",
    "    \n",
    "    # Redefine the gameboard's 3 constituent rows\n",
    "    row1 = board[:3]\n",
    "    row2 = board[3:6]\n",
    "    row3 = board[6:9]\n",
    "    \n",
    "    # Use winningCondition() to determine if the board contains a winning condition\n",
    "    if winningCondition (row1, row2, row3) is True:\n",
    "        \n",
    "        # If so, display the game board again, and congratulate the player\n",
    "        print ('\\n', row1, '\\n', row2, '\\n', row3)\n",
    "        print (\"\\nCongratulations \" + playerMark[P1][1] + '!')\n",
    "        \n",
    "        # Terminate the function by returning a None\n",
    "        return None\n",
    "    \n",
    "    elif winningCondition (row1, row2, row3) == 'Draw':\n",
    "        \n",
    "        print ('\\n', row1, '\\n', row2, '\\n', row3)\n",
    "        print (\"\\nThe grame draws!\")\n",
    "    \n",
    "    else:\n",
    "        \n",
    "        # After the player's turn, if there is no winning condition, restart the function to move onto the next turn\n",
    "        gameLogic(board, P1 == False)"
   ]
  },
  {
   "cell_type": "code",
   "execution_count": 3,
   "metadata": {},
   "outputs": [
    {
     "name": "stdout",
     "output_type": "stream",
     "text": [
      "\n",
      " ['X', '-', 'O'] \n",
      " ['-', 'X', 'O'] \n",
      " ['-', '-', 'X']\n",
      "\n",
      "Congratulations Player 1!\n"
     ]
    }
   ],
   "source": [
    "# Call gameLogic() with an empty gameboard, Player 1 to move\n",
    "gameLogic(['-']*10, True)"
   ]
  }
 ],
 "metadata": {
  "kernelspec": {
   "display_name": "Python 3",
   "language": "python",
   "name": "python3"
  },
  "language_info": {
   "codemirror_mode": {
    "name": "ipython",
    "version": 3
   },
   "file_extension": ".py",
   "mimetype": "text/x-python",
   "name": "python",
   "nbconvert_exporter": "python",
   "pygments_lexer": "ipython3",
   "version": "3.8.5"
  }
 },
 "nbformat": 4,
 "nbformat_minor": 4
}
