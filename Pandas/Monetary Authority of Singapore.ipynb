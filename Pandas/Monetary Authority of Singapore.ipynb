{
 "cells": [
  {
   "cell_type": "code",
   "execution_count": 1,
   "metadata": {},
   "outputs": [],
   "source": [
    "import re\n",
    "import pandas as pd\n",
    "import json\n",
    "import requests\n",
    "import html\n",
    "from collections import defaultdict"
   ]
  },
  {
   "cell_type": "code",
   "execution_count": 2,
   "metadata": {},
   "outputs": [],
   "source": [
    "# Import previously downloaded HTML file\n",
    "file=open(\"MAS.html\", 'r', encoding ='utf-8').read()"
   ]
  },
  {
   "cell_type": "code",
   "execution_count": 3,
   "metadata": {},
   "outputs": [],
   "source": [
    "def textCleaner (text):\n",
    "\n",
    "    return html.unescape(text).encode('ascii','ignore').decode().strip()"
   ]
  },
  {
   "cell_type": "code",
   "execution_count": 4,
   "metadata": {},
   "outputs": [
    {
     "name": "stdout",
     "output_type": "stream",
     "text": [
      "There are 43 resources:\n"
     ]
    }
   ],
   "source": [
    "# Empty list to be filled with a list of lists: [recource id, resource name]\n",
    "resources = []\n",
    "\n",
    "# Regular Expressions used to detect resource ids, and resource names\n",
    "patterns = [r\"(?:https://secure.mas.gov.sg/api/APIDescPage.aspx\\?resource_id=)(.+?)(?:\\\"\\sid.+?\\>)(?:\\s+?)(.+?)(?:\\<)\",\n",
    "            r\"(?:https://secure.mas.gov.sg/api/APIDESCPAGE.ASPX\\?RESOURCE_ID=)(.+?)(?:\\\"\\sid.+?\\>)(?:\\s+?)(.+?)(?:\\<)\"]\n",
    "\n",
    "# Use both patterns to scrape out the resource ids, and resource names\n",
    "for pattern in patterns:\n",
    "    resources+=(re.findall(pattern,file, re.DOTALL))\n",
    "\n",
    "# Reduce this to unique pairs only; a precautionary step as there are no duplicates at this time\n",
    "resources = set(resources)\n",
    "\n",
    "print ('There are', len(resources),'resources:')\n",
    "\n",
    "# Clean up the text using the textCleaner() function; removes special characters etc\n",
    "resources = [[textCleaner(resource[0]),textCleaner(resource[1])] for resource in resources]"
   ]
  },
  {
   "cell_type": "code",
   "execution_count": 5,
   "metadata": {},
   "outputs": [
    {
     "data": {
      "text/plain": [
       "[['2bc97ad7-4c0c-4013-8020-e95311db212f',\n",
       "  'Table I.15 Asian Dollar Market: Maturities of Assets and Liabilities of ACUs'],\n",
       " ['c6147266-d4a9-48a6-8a11-5a5bc684f6c8',\n",
       "  'Table II.6 General Insurance Companies: Premiums and Claims'],\n",
       " ['b67f7895-aab0-4fa2-8dcc-8587a0a3ea4e',\n",
       "  'Table I.3C Banks: Liabilities of DBUs']]"
      ]
     },
     "execution_count": 5,
     "metadata": {},
     "output_type": "execute_result"
    }
   ],
   "source": [
    "# Display 3 resources to verify it is a list of lists: [resource id, resource name]\n",
    "resources[:3]"
   ]
  },
  {
   "cell_type": "code",
   "execution_count": 6,
   "metadata": {
    "jupyter": {
     "source_hidden": true
    }
   },
   "outputs": [],
   "source": [
    "def rawColumns(resource = '1c1713de-6b5e-475d-bc1e-b6a45b3e063e'):\n",
    "    \n",
    "    url = 'https://eservices.mas.gov.sg/api/action/datastore/search.json?resource_id='+resource+'&limit=1'\n",
    "    \n",
    "    result = requests.get(url).json()['result']['records']\n",
    "            \n",
    "    if 'preliminary' in result[0].keys():\n",
    "        \n",
    "        return True\n",
    "    \n",
    "    else:\n",
    "        \n",
    "        return False"
   ]
  },
  {
   "cell_type": "code",
   "execution_count": 7,
   "metadata": {},
   "outputs": [],
   "source": [
    "def Columns(resource = '1c1713de-6b5e-475d-bc1e-b6a45b3e063e'):\n",
    "    \n",
    "    rawColumns = []\n",
    "    finalDict = {}\n",
    "    \n",
    "    source = requests.get('https://secure.mas.gov.sg/api/APIDESCPAGE.ASPX?RESOURCE_ID='+resource).text\n",
    "    \n",
    "    if resource == '7e181136-d81a-48a8-9350-3f09265db3c7':\n",
    "    \n",
    "        source = source.replace('cards_main', 'principal_cardholders')\n",
    "        source = source.replace('cards_supp', 'supp_cardholders')\n",
    "        \n",
    "    if resource == '9a0bf149-308c-4bd2-832d-76c8e6cb47ed':\n",
    "        \n",
    "        source = source.replace('rmb_overnight_rate','on_rmb_facility_rate')\n",
    "        source = source.replace('sora','sor_average',1)\n",
    "\n",
    "    pattern = r\"(?:<td>)(?:\\d+?)(?:</td>)(?:<td>)(.+?)(?:</td>)(?:<td>)(.+?)(?:</td>)(?:<td>)(?:.*?)(?:</td>)(?:<td>)(.+?)(?:</td>)(?:<td>)(.+?)(?:</td>)\"    \n",
    "    \n",
    "    matches = re.findall(pattern, source, re.DOTALL)\n",
    "    matches = [list(item) for item in matches]\n",
    "    matches = [[html.unescape(subitem).encode(\"utf-8\", \"ignore\").decode() for subitem in item] for item in matches]\n",
    "    \n",
    "    columnNames = [item[0] for item in matches]\n",
    "    \n",
    "    timeVariable = [item for item in columnNames if item in ['end_of_month', 'end_of_year', 'end_of_quarter', 'end_of_day']][0]\n",
    "    matches = [item for item in matches if item[0] != timeVariable]\n",
    "    \n",
    "    return matches, timeVariable"
   ]
  },
  {
   "cell_type": "code",
   "execution_count": 8,
   "metadata": {},
   "outputs": [],
   "source": [
    "def CSV(resource = ['1c1713de-6b5e-475d-bc1e-b6a45b3e063e']*2):\n",
    "                \n",
    "    length = 100\n",
    "    offset = 0        \n",
    "    \n",
    "    rows, timeVariable = Columns(resource[0])\n",
    "    columns = ['indicator', 'description', 'unit', 'notes']\n",
    "    \n",
    "    url = 'https://eservices.mas.gov.sg/api/action/datastore/search.json?resource_id='+resource[0]+'&limit=100&offset='\n",
    "    \n",
    "    while length == 100:\n",
    "        \n",
    "        call = url+str(offset)\n",
    "    \n",
    "        records = requests.get(call).json()['result']['records']\n",
    "        \n",
    "        for record in records:\n",
    "            \n",
    "            columns.append(record[timeVariable])\n",
    "            \n",
    "            for row in rows:\n",
    "               \n",
    "                row.append(record[row[0]])\n",
    "            \n",
    "        length = len(records)\n",
    "        offset += 100\n",
    "    \n",
    "    return columns, rows"
   ]
  },
  {
   "cell_type": "code",
   "execution_count": 9,
   "metadata": {},
   "outputs": [
    {
     "name": "stdout",
     "output_type": "stream",
     "text": [
      "['2bc97ad7-4c0c-4013-8020-e95311db212f', 'Table I.15 Asian Dollar Market: Maturities of Assets and Liabilities of ACUs']\n",
      "['c6147266-d4a9-48a6-8a11-5a5bc684f6c8', 'Table II.6 General Insurance Companies: Premiums and Claims']\n",
      "['b67f7895-aab0-4fa2-8dcc-8587a0a3ea4e', 'Table I.3C Banks: Liabilities of DBUs']\n",
      "['15194366-fbda-424f-84c2-603308d6e231', 'Table I.2C Monetary Authority: Assets and Liabilities']\n",
      "['27e076cd-23c6-4399-8906-f92e8a6327c7', 'Table II.2 Finance Companies: Loans and Advances']\n",
      "['f9431948-e238-4919-ad46-c1ff952f755c', 'Table I.11 Banks: Combined Assets and Liabilities of DBUs and ACUs']\n",
      "['3d115d8f-c4aa-4d31-a5c3-c1f4d4ecc4d7', 'Table I.6 Banks: Loan Limits Grantedto Non-bank Customers by Industry']\n",
      "['3bdfa4ca-297b-45f0-bdf9-25ee0e1db59a', 'Table II.1 Finance Companies: Assets and Liabilities']\n",
      "['0325c21e-767e-432f-8a77-2af1013792a7', 'Table III.2 Foreign Exchange Market Turnover']\n",
      "['8e64ee9f-aaec-4313-a6f9-860fd36ea90b', 'Table I.3B Banks: Assets of DBUs']\n",
      "['7e181136-d81a-48a8-9350-3f09265db3c7', 'Table I.17A Credit and Charge Card Statistics']\n",
      "['29a891f3-2ac7-442a-9b86-d517a4904f09', 'Table III.8 SGX-DT: Turnover and Open Interest (Futures and Options)']\n",
      "['461ecdb8-c9f3-4b2e-8547-f21305cb9111', 'Table I.3A Banks: Assets and Liabilities ofDBUs']\n",
      "['7b940841-4f36-4f98-9919-57c834fff451', 'Table II.8 Life Insurance Companies: Business in Force']\n",
      "['ca7c2d1e-7744-4a43-b2f2-6ac590e8ee93', 'Table I.5B Banks: Loans and Advances of ACUs to Non-Bank Customers by Industry']\n",
      "['a8fab653-feeb-4c7a-a036-b544dca9bf1a', 'Table IV.7 Official Foreign Reserves']\n",
      "['ff162cc9-17f4-40cf-9d3c-87eeba6ee0ea', 'Table I.9 Banks: Maturities of Assets and Liabilities of DBUs']\n",
      "['1c1713de-6b5e-475d-bc1e-b6a45b3e063e', 'Table III.7 SGX-ST: Price Index, Number of Listed Companies, Turnover and Capitalisation']\n",
      "['2940f379-100d-4f28-986a-8aee84014929', 'Table I.1 Money Supply (DBU)']\n",
      "['9150e6cb-9c13-44b3-9a4f-1b21e991143c', 'Table I.10 Banks: External Assets and Liabilities of DBUs']\n",
      "['5f2b18a8-0883-4769-a635-879c63d3caac', 'Interest Rates of Banks and Finance Companies']\n",
      "['d1ccff60-4886-4916-bb68-f620d760fa4e', 'Table I.2A Monetary Survey (DBU)']\n",
      "['2f0d9ccd-4190-41fd-a53d-2a319934ca6c', 'Exchange Rates - Average for Period']\n",
      "['3b288eee-016c-4ba3-bb88-4810b9c3e0d0', 'Table I.2B Monetary Survey (DBU and ACU)']\n",
      "['f9a0db43-fe31-4347-8a3c-7b02cab0ac9d', 'Table I.8 Banks: Statutory Liquidity Position of DBUs']\n",
      "['53384305-2024-41d6-aea2-897ddb06f343', 'Table I.7 Banks: Types of Loans and Advances of DBUs to Non-Bank Customers']\n",
      "['ec2cb157-d25f-4245-a547-dc036b321a09', 'Table III.4 SGS: Issuance, Redemption and Outstanding Amount']\n",
      "['9a0bf149-308c-4bd2-832d-76c8e6cb47ed', 'Domestic Interest Rates']\n",
      "['324a75d9-3609-4276-8c87-49c754a1ec73', 'Table I.1A Money Supply (DBU and ACU)']\n",
      "['164a1e1d-b78f-495a-8070-093a1402e530', 'Table I.14 Asian Dollar Market: Liabilities of ACUs']\n",
      "['4bca1f3d-ab23-4852-afa1-d4ee9bb28dad', 'Table I.12 Banks: Classified Exposures']\n",
      "['2a78820d-f135-4b73-9aa0-cf9dd9c13b93', 'Table I.13 Asian Dollar Market: Assets of ACUs']\n",
      "['95932927-c8bc-4e7a-b484-68a66a24edfe', 'Exchange Rates - End of Period']\n",
      "['fdf2a967-1748-4616-bf62-e2975c2dae9b', 'Table II.4 Merchant Banks: Assets and Liabilities of Domestic Unit Operations']\n",
      "['667037dc-27d7-4731-9180-7882b857928f', 'Table I.10A Banks: External Assets and Liabilities of DBUs and ACUs']\n",
      "['7ddc63a4-240a-4ecc-b518-ec7b514229b6', 'Table II.3 Merchant Banks: Assets \\nand Liabilities of Domestic and Asian Currency Unit Operations']\n",
      "['b744800f-3d77-4e89-a540-deb688f4694c', 'Table I.4 Banks: Deposits (excluding S$NCDs) of DBUs by Types of Non-bank Customers']\n",
      "['7f1363cc-3875-4e03-a389-fc47342bb840', 'Table I.17 Credit and Charge Card Statistics']\n",
      "['54d93617-609d-477e-aaaa-f1f36e57a816', 'Table I.5A Banks: Loans and Advances of DBUs to Non-Bank Customers by Industry']\n",
      "['8e3dcf0d-6a8c-4bcc-87ab-1c3ed2dc1783', 'Table II.5 Insurance Companies: Assets']\n",
      "['02fca2e9-b851-410c-a314-13e2cec9f69c', 'Table II.6 (Prior 2005) General Insurance Companies: Premiums and Claims']\n",
      "['bd46672d-e305-4e18-8e44-f54ada0b537d', 'Table II.7 Life Insurance Companies: New Business']\n",
      "['3eeb6d15-ec90-4ecf-bdc1-5c7fbfe4ad8d', 'Table I.16 Asian Dollar Market: Interbank and Non-Bank Funds By Selected Regions']\n"
     ]
    }
   ],
   "source": [
    "for resource in resources:\n",
    "\n",
    "    print (resource)\n",
    "    \n",
    "    columns, rows = CSV(resource)\n",
    "    \n",
    "    df = pd.DataFrame(columns = columns)\n",
    "    \n",
    "    for i in range(len(rows)):\n",
    "    \n",
    "        df.loc[i] = rows[i]\n",
    "        \n",
    "    df.to_csv(resource[1]+'.csv')"
   ]
  }
 ],
 "metadata": {
  "kernelspec": {
   "display_name": "Python 3",
   "language": "python",
   "name": "python3"
  },
  "language_info": {
   "codemirror_mode": {
    "name": "ipython",
    "version": 3
   },
   "file_extension": ".py",
   "mimetype": "text/x-python",
   "name": "python",
   "nbconvert_exporter": "python",
   "pygments_lexer": "ipython3",
   "version": "3.8.5"
  }
 },
 "nbformat": 4,
 "nbformat_minor": 4
}
