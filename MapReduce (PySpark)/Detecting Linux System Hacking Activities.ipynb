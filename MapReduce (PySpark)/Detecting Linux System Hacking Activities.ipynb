{
 "cells": [
  {
   "cell_type": "markdown",
   "metadata": {},
   "source": [
    "# ASSIGNMENT 2A - Detecting Linux system hacking activities\n",
    "#### Name: Mudit Sharma\n",
    "#### Student ID: 30340071"
   ]
  },
  {
   "cell_type": "code",
   "execution_count": 1,
   "metadata": {
    "collapsed": true,
    "jupyter": {
     "outputs_hidden": true
    }
   },
   "outputs": [],
   "source": [
    "import os\n",
    "\n",
    "os.environ['PYSPARK_PYTHON'] = '/Users/muditsharma/opt/anaconda3/bin/python3.8'\n",
    "os.environ['PYSPARK_DRIVER_PYTHON'] = '/Users/muditsharma/opt/anaconda3/bin/python3.8'\n",
    "os.environ['JAVA_HOME'] = '/Library/Internet Plug-Ins/JavaAppletPlugin.plugin/Contents/Home'"
   ]
  },
  {
   "cell_type": "code",
   "execution_count": 69,
   "metadata": {
    "collapsed": true,
    "jupyter": {
     "outputs_hidden": true
    }
   },
   "outputs": [],
   "source": [
    "from pyspark.sql.types import *\n",
    "from pyspark.sql.functions import isnan, when, count, col, desc\n",
    "from pyspark.sql.functions import udf\n",
    "from pyspark.ml import Pipeline, PipelineModel\n",
    "from pyspark.ml.feature import StringIndexer\n",
    "from pyspark.ml.feature import VectorAssembler\n",
    "from pyspark.ml.regression import GBTRegressor\n",
    "from pyspark.ml.classification import DecisionTreeClassifier, GBTClassifier\n",
    "from pyspark.mllib.evaluation import MulticlassMetrics, BinaryClassificationMetrics\n",
    "from pyspark.ml.feature import VectorAssembler\n",
    "import matplotlib.pyplot as plt\n",
    "import pandas as pd"
   ]
  },
  {
   "cell_type": "markdown",
   "metadata": {},
   "source": [
    "# 1 - Data Preparation & Exploration\n",
    "## 1.1 - Creating SparkSession"
   ]
  },
  {
   "cell_type": "code",
   "execution_count": 3,
   "metadata": {
    "collapsed": true,
    "jupyter": {
     "outputs_hidden": true
    }
   },
   "outputs": [],
   "source": [
    "# Import SparkConf class into program\n",
    "from pyspark import SparkConf\n",
    "from pyspark.sql import SparkSession # Spark SQL\n",
    "\n",
    "# Setup configuration parameters for Spark\n",
    "master = \"local[1]\"\n",
    "app_name = \"Week 5\"\n",
    "spark_conf = SparkConf().setMaster(master).setAppName(app_name)\n",
    "\n",
    "spark = SparkSession.builder.config(conf=spark_conf).getOrCreate()\n",
    "sc = spark.sparkContext\n",
    "sc.setLogLevel('ERROR')\n",
    "\n",
    "conf = spark.sparkContext._conf.setAll([('spark.sql.files.maxPartitionBytes', '32MB')])\n",
    "spark.sparkContext.stop()\n",
    "spark = SparkSession.builder.config(conf=conf).getOrCreate()\n",
    "\n",
    "conf = spark.sparkContext._conf.setAll([('spark.sql.files.maxPartitionBytes', '32MB')])"
   ]
  },
  {
   "cell_type": "markdown",
   "metadata": {},
   "source": [
    "## 1.2 - Loading the Data\n",
    "## 1.2.1"
   ]
  },
  {
   "cell_type": "code",
   "execution_count": 4,
   "metadata": {
    "collapsed": true,
    "jupyter": {
     "outputs_hidden": true
    }
   },
   "outputs": [
    {
     "name": "stdout",
     "output_type": "stream",
     "text": [
      "<class 'pyspark.sql.dataframe.DataFrame'>\n",
      "Number of Partitions:  4\n",
      "Number of Rows:  1927968\n"
     ]
    }
   ],
   "source": [
    "# Define a schema for the import of the Process file\n",
    "schema = StructType([\n",
    "    StructField(\"ts\", IntegerType()),\n",
    "    StructField(\"PID\", IntegerType()),\n",
    "    StructField(\"TRUN\", IntegerType()),\n",
    "    StructField(\"TSLPI\", IntegerType()),\n",
    "    StructField(\"TSLPU\", IntegerType()),\n",
    "    StructField(\"POLI\", StringType()),\n",
    "    StructField(\"NICE\", IntegerType()),\n",
    "    StructField(\"PRI\", IntegerType()),\n",
    "    StructField(\"RTPR\", IntegerType()),\n",
    "    StructField(\"CPUNR\", IntegerType()),\n",
    "    StructField(\"Status\", StringType()),\n",
    "    StructField(\"EXC\", IntegerType()),\n",
    "    StructField(\"State\", StringType()),\n",
    "    StructField(\"CPU\", DoubleType()),\n",
    "    StructField(\"CMD\", StringType()),\n",
    "    StructField(\"attack\", IntegerType()),\n",
    "    StructField(\"type\", StringType())\n",
    "])\n",
    "\n",
    "Process1 = spark.read.csv(\"linux_process_1.csv\",header=True,schema=schema)\n",
    "Process2 = spark.read.csv(\"linux_process_2.csv\",header=True,schema=schema)\n",
    "\n",
    "Process = Process1.union(Process2)\n",
    "\n",
    "# Cache the file as required\n",
    "Process.cache()\n",
    "\n",
    "# Verify the import has gone according to our requirements\n",
    "print(type(Process))\n",
    "print('Number of Partitions: ',Process.rdd.getNumPartitions())\n",
    "print('Number of Rows: ',Process.count())"
   ]
  },
  {
   "cell_type": "code",
   "execution_count": 5,
   "metadata": {
    "collapsed": true,
    "jupyter": {
     "outputs_hidden": true
    }
   },
   "outputs": [
    {
     "name": "stdout",
     "output_type": "stream",
     "text": [
      "<class 'pyspark.sql.dataframe.DataFrame'>\n",
      "Number of Partitions:  4\n",
      "Number of Rows:  2000000\n"
     ]
    }
   ],
   "source": [
    "# Define a schema for the import of the Memory file\n",
    "schema = StructType([\n",
    "    StructField(\"ts\", IntegerType()),\n",
    "    StructField(\"PID\", IntegerType()),\n",
    "    StructField(\"MINFLT\", StringType()),\n",
    "    StructField(\"MAJFLT\", StringType()),\n",
    "    StructField(\"VSTEXT\", StringType()),\n",
    "    StructField(\"VSIZE\", DoubleType()),\n",
    "    StructField(\"RSIZE\", StringType()),\n",
    "    StructField(\"VGROW\", StringType()),\n",
    "    StructField(\"RGROW\", StringType()),\n",
    "    StructField(\"MEM\", DoubleType()),\n",
    "    StructField(\"CMD\", StringType()),\n",
    "    StructField(\"attack\", IntegerType()),\n",
    "    StructField(\"type\", StringType())\n",
    "])\n",
    "\n",
    "Memory1 = spark.read.csv(\"linux_memory_1.csv\",header=True,schema=schema)\n",
    "Memory2 = spark.read.csv(\"linux_memory_2.csv\",header=True,schema=schema)\n",
    "\n",
    "Memory = Memory1.union(Memory2)\n",
    "\n",
    "# Cache the file as required\n",
    "Memory.cache()\n",
    "\n",
    "# Verify the import has gone according to our requirements\n",
    "print(type(Memory))\n",
    "print('Number of Partitions: ',Memory.rdd.getNumPartitions())\n",
    "print('Number of Rows: ',Memory.count())"
   ]
  },
  {
   "cell_type": "markdown",
   "metadata": {},
   "source": [
    "## 1.2.2"
   ]
  },
  {
   "cell_type": "code",
   "execution_count": 6,
   "metadata": {
    "collapsed": true,
    "jupyter": {
     "outputs_hidden": true
    }
   },
   "outputs": [
    {
     "name": "stdout",
     "output_type": "stream",
     "text": [
      "+---+---+----+-----+-----+----+----+---+----+-----+------+---+-----+---+---+------+----+\n",
      "| ts|PID|TRUN|TSLPI|TSLPU|POLI|NICE|PRI|RTPR|CPUNR|Status|EXC|State|CPU|CMD|attack|type|\n",
      "+---+---+----+-----+-----+----+----+---+----+-----+------+---+-----+---+---+------+----+\n",
      "|  0|  0|   0|    0|    0|   0|   0|  0|   0|    0|     0|  0|    0|  0|  0|     0|   0|\n",
      "+---+---+----+-----+-----+----+----+---+----+-----+------+---+-----+---+---+------+----+\n",
      "\n",
      "+---+---+------+------+------+-----+-----+-----+-----+---+---+------+----+\n",
      "| ts|PID|MINFLT|MAJFLT|VSTEXT|VSIZE|RSIZE|VGROW|RGROW|MEM|CMD|attack|type|\n",
      "+---+---+------+------+------+-----+-----+-----+-----+---+---+------+----+\n",
      "|  0|  0|     0|     0|     0|    0|    0|    0|    0|  0|  0|     0|   0|\n",
      "+---+---+------+------+------+-----+-----+-----+-----+---+---+------+----+\n",
      "\n"
     ]
    }
   ],
   "source": [
    "# Check for NULL, and NaN values in both Dataframes\n",
    "Process.select([count(when(isnan(c) | col(c).isNull(), c)).alias(c) for c in Process.columns]).show()\n",
    "Memory.select([count(when(isnan(c) | col(c).isNull(), c)).alias(c) for c in Memory.columns]).show()"
   ]
  },
  {
   "cell_type": "code",
   "execution_count": 7,
   "metadata": {
    "collapsed": true,
    "jupyter": {
     "outputs_hidden": true
    }
   },
   "outputs": [],
   "source": [
    "dictionary = {'M':1000000,'K':1000}\n",
    "\n",
    "# Define a function to help fix dirty data\n",
    "def valueFixer (value):\n",
    "    \n",
    "    # If the value is something like '318 6'\n",
    "    value = str(value).replace(' ','') \n",
    "    \n",
    "    # If the value is M or K\n",
    "    if value in dictionary.keys(): \n",
    "        return dictionary[value]\n",
    "    \n",
    "    # If the value is an integer, e.g '32'\n",
    "    elif value.isnumeric(): \n",
    "        return int(value)\n",
    "    \n",
    "    # If the value uses shorthand, e.g 324K (=324,000)\n",
    "    elif value[-1].isalpha():\n",
    "        return (float(value[:-1])*dictionary[value[-1]])\n",
    "    \n",
    "    # If the value is negative (this is the last option as all other irregualrities in the data would have been rectified above)\n",
    "    else:\n",
    "        return float(value)   "
   ]
  },
  {
   "cell_type": "code",
   "execution_count": 8,
   "metadata": {
    "collapsed": true,
    "jupyter": {
     "outputs_hidden": true
    }
   },
   "outputs": [],
   "source": [
    "# Convert the function into a UDF\n",
    "valueFixerUDF = udf(lambda x: valueFixer(x))"
   ]
  },
  {
   "cell_type": "code",
   "execution_count": 9,
   "metadata": {
    "collapsed": true,
    "jupyter": {
     "outputs_hidden": true
    }
   },
   "outputs": [],
   "source": [
    "# Apply the UDF to affected columns\n",
    "schemaDictionary = {'MINFLT':IntegerType(),\n",
    "                    'MAJFLT':DoubleType(),\n",
    "                    'VSTEXT':DoubleType(),\n",
    "                    'RSIZE':DoubleType(),\n",
    "                    'VGROW':DoubleType(),\n",
    "                    'RGROW':DoubleType()}\n",
    "\n",
    "for column in ['MINFLT','MAJFLT','VSTEXT','RSIZE','VGROW','RGROW']:\n",
    "    \n",
    "    # Fix the values themselves\n",
    "    Memory = Memory.withColumn(column,valueFixerUDF(column))\n",
    "    \n",
    "    # Cast the columns into the appropriate data types\n",
    "    Memory = Memory.withColumn(column,col(column).cast(schemaDictionary[column]))"
   ]
  },
  {
   "cell_type": "code",
   "execution_count": 10,
   "metadata": {
    "collapsed": true,
    "jupyter": {
     "outputs_hidden": true
    }
   },
   "outputs": [
    {
     "name": "stdout",
     "output_type": "stream",
     "text": [
      "root\n",
      " |-- ts: integer (nullable = true)\n",
      " |-- PID: integer (nullable = true)\n",
      " |-- MINFLT: integer (nullable = true)\n",
      " |-- MAJFLT: double (nullable = true)\n",
      " |-- VSTEXT: double (nullable = true)\n",
      " |-- VSIZE: double (nullable = true)\n",
      " |-- RSIZE: double (nullable = true)\n",
      " |-- VGROW: double (nullable = true)\n",
      " |-- RGROW: double (nullable = true)\n",
      " |-- MEM: double (nullable = true)\n",
      " |-- CMD: string (nullable = true)\n",
      " |-- attack: integer (nullable = true)\n",
      " |-- type: string (nullable = true)\n",
      "\n"
     ]
    }
   ],
   "source": [
    "# Verify that everything has gone according to our requirements\n",
    "Memory.printSchema()"
   ]
  },
  {
   "cell_type": "code",
   "execution_count": 11,
   "metadata": {
    "collapsed": true,
    "jupyter": {
     "outputs_hidden": true
    }
   },
   "outputs": [
    {
     "name": "stdout",
     "output_type": "stream",
     "text": [
      "+---+---+------+------+------+-----+-----+-----+-----+---+---+------+----+\n",
      "| ts|PID|MINFLT|MAJFLT|VSTEXT|VSIZE|RSIZE|VGROW|RGROW|MEM|CMD|attack|type|\n",
      "+---+---+------+------+------+-----+-----+-----+-----+---+---+------+----+\n",
      "|  0|  0|     0|     0|     0|    0|    0|    0|    0|  0|  0|     0|   0|\n",
      "+---+---+------+------+------+-----+-----+-----+-----+---+---+------+----+\n",
      "\n"
     ]
    }
   ],
   "source": [
    "# Again, verify that there are no NaN or NULL values, which would indicate inadequacies in the UDF\n",
    "Memory.select([count(when(isnan(c) | col(c).isNull(), c)).alias(c) for c in Memory.columns]).show()"
   ]
  },
  {
   "cell_type": "markdown",
   "metadata": {},
   "source": [
    "## 1.3 - Exploring the Data\n",
    "## 1.3.1"
   ]
  },
  {
   "cell_type": "code",
   "execution_count": 12,
   "metadata": {
    "collapsed": true,
    "jupyter": {
     "outputs_hidden": true
    }
   },
   "outputs": [],
   "source": [
    "# Count the number of rows where attack=0, attack=1 in both Dataframes\n",
    "\n",
    "MAttack1Count = Memory\\\n",
    ".filter(col('attack')==1)\\\n",
    ".count()\n",
    "\n",
    "MAttack0Count = Memory\\\n",
    ".filter(col('attack')==0)\\\n",
    ".count()\n",
    "\n",
    "PAttack1Count = Process\\\n",
    ".filter(col('attack')==1)\\\n",
    ".count()\n",
    "\n",
    "PAttack0Count = Process\\\n",
    ".filter(col('attack')==0)\\\n",
    ".count()"
   ]
  },
  {
   "cell_type": "code",
   "execution_count": 13,
   "metadata": {
    "collapsed": true,
    "jupyter": {
     "outputs_hidden": true
    }
   },
   "outputs": [
    {
     "name": "stdout",
     "output_type": "stream",
     "text": [
      "MEMORY\n",
      "Attacks:  205623 of 2000000\n",
      "Non-Attacks:  1794377 of 2000000\n",
      "+------+---------+-------+----------+\n",
      "|attack|     type|  count|Percentage|\n",
      "+------+---------+-------+----------+\n",
      "|     0|   normal|1794377|  89.71885|\n",
      "|     1|      dos|  75283|   3.76415|\n",
      "|     1|injection|  58523|   2.92615|\n",
      "|     1|     ddos|  45689|   2.28445|\n",
      "|     1| password|  26016|    1.3008|\n",
      "|     1|     mitm|    112|    0.0056|\n",
      "+------+---------+-------+----------+\n",
      "\n",
      "PROCESS\n",
      "Attacks:  291364 of 1927968\n",
      "Non-Attacks:  1636604 of 1927968\n",
      "+------+---------+-------+--------------------+\n",
      "|attack|     type|  count|          Percentage|\n",
      "+------+---------+-------+--------------------+\n",
      "|     0|   normal|1636604|   84.88750850636525|\n",
      "|     1|     ddos|  71603|  3.7139101893807367|\n",
      "|     1|      dos|  70721|  3.6681625421168818|\n",
      "|     1| password|  51409|  2.6664861657454897|\n",
      "|     1|injection|  41311|   2.142722285847068|\n",
      "|     1| scanning|  38449|  1.9942758386031303|\n",
      "|     1|      xss|  17759|  0.9211252468920647|\n",
      "|     1|     mitm|    112|0.005809225049378413|\n",
      "+------+---------+-------+--------------------+\n",
      "\n"
     ]
    }
   ],
   "source": [
    "# Repeat the above, but now also grouping by 'type' for each Dataframe, and including a percentage\n",
    "\n",
    "print ('MEMORY')\n",
    "print ('Attacks: ',MAttack1Count, 'of', Memory.count())\n",
    "print ('Non-Attacks: ',MAttack0Count, 'of', Memory.count())\n",
    "\n",
    "MAttack = Memory\\\n",
    ".groupBy('attack','type')\\\n",
    ".count()\\\n",
    ".orderBy('attack')\n",
    "\n",
    "MAttack01 = MAttack\\\n",
    ".withColumn('Percentage',100*MAttack['count']/Memory.count())\\\n",
    ".orderBy(MAttack['count'].desc())\\\n",
    ".show()\n",
    "\n",
    "print ('PROCESS')\n",
    "print ('Attacks: ',PAttack1Count, 'of', Process.count())\n",
    "print ('Non-Attacks: ',PAttack0Count, 'of', Process.count())\n",
    "\n",
    "PAttack = Process\\\n",
    ".groupBy('attack','type')\\\n",
    ".count()\\\n",
    ".orderBy('attack')\n",
    "\n",
    "PAttack01 = PAttack\\\n",
    ".withColumn('Percentage',100*PAttack['count']/Process.count())\\\n",
    ".orderBy(PAttack['count'].desc())\\\n",
    ".show()"
   ]
  },
  {
   "cell_type": "markdown",
   "metadata": {},
   "source": [
    "Here, we can make the following observations:\n",
    "- ~90% of records from Memory, and ~85% of records from Process represent non-attacks\n",
    "\n",
    "Within Memory:\n",
    "- The following attack types (DOS, Injection, and DDOS) occur between ~1 and ~4% of the time\n",
    "- Password and MITM attacks represent a very low percentage of attacks, occuring ~0.005% of the time\n",
    "\n",
    "Within Process:\n",
    "- The following attack types (DDOS, DOS, Injection, Scanning, and XSS) occur between ~1 and ~4% of the time\n",
    "- Password and MITM attacks represent a very low percentage of attacks, occuring ~0.005% of the time\n",
    "\n",
    "To get a clearer picture of the distribution of the different types of attacks, we can filter out non-attacks:"
   ]
  },
  {
   "cell_type": "code",
   "execution_count": 14,
   "metadata": {
    "collapsed": true,
    "jupyter": {
     "outputs_hidden": true
    }
   },
   "outputs": [
    {
     "name": "stdout",
     "output_type": "stream",
     "text": [
      "+------+---------+-----+--------------------+\n",
      "|attack|     type|count|          Percentage|\n",
      "+------+---------+-----+--------------------+\n",
      "|     1|      dos|75283|   4.195495149570018|\n",
      "|     1|injection|58523|   3.261466235913635|\n",
      "|     1|     ddos|45689|  2.5462319233917956|\n",
      "|     1| password|26016|  1.4498625428212688|\n",
      "|     1|     mitm|  112|0.006241720664052203|\n",
      "+------+---------+-----+--------------------+\n",
      "\n",
      "+------+---------+-----+--------------------+\n",
      "|attack|     type|count|          Percentage|\n",
      "+------+---------+-----+--------------------+\n",
      "|     1|     ddos|71603|   4.375096235864021|\n",
      "|     1|      dos|70721|   4.321204152012338|\n",
      "|     1| password|51409|   3.141199703776845|\n",
      "|     1|injection|41311|   2.524190335597371|\n",
      "|     1| scanning|38449|   2.349316022690889|\n",
      "|     1|      xss|17759|  1.0851128312041276|\n",
      "|     1|     mitm|  112|0.006843439219261348|\n",
      "+------+---------+-----+--------------------+\n",
      "\n"
     ]
    }
   ],
   "source": [
    "# Same as above, just with greater granularity into attack types\n",
    "# This was achieved by simply not considering rows where attack=0\n",
    "\n",
    "MAttack1Count = Memory\\\n",
    ".filter(col('attack')==1)\\\n",
    ".count()\n",
    "\n",
    "MAttack1 = Memory\\\n",
    ".filter(col('attack')==1)\\\n",
    ".groupBy('attack','type')\\\n",
    ".count()\n",
    "\n",
    "MAttack1\\\n",
    ".withColumn('Percentage',100*MAttack1['count']/MAttack0Count)\\\n",
    ".orderBy(MAttack1['count'].desc())\\\n",
    ".show()\n",
    "\n",
    "PAttack1Count = Process\\\n",
    ".filter(col('attack')==1)\\\n",
    ".count()\n",
    "\n",
    "PAttack1 = Process\\\n",
    ".filter(col('attack')==1)\\\n",
    ".groupBy('attack','type')\\\n",
    ".count()\n",
    "\n",
    "PAttack1\\\n",
    ".withColumn('Percentage',100*PAttack1['count']/PAttack0Count)\\\n",
    ".orderBy(PAttack1['count'].desc())\\\n",
    ".show()"
   ]
  },
  {
   "cell_type": "markdown",
   "metadata": {},
   "source": [
    "We continue to observe that Password and MITM attacks constitute smaller percentages of the overall attacks that take place. However, MITM attacks continue to represent a very small minority, still occuring ~0.05% of the time at most."
   ]
  },
  {
   "cell_type": "markdown",
   "metadata": {},
   "source": [
    "## 1.3.2"
   ]
  },
  {
   "cell_type": "code",
   "execution_count": 15,
   "metadata": {
    "collapsed": true,
    "jupyter": {
     "outputs_hidden": true
    }
   },
   "outputs": [],
   "source": [
    "# Separate numeric from non-numeric columns for summary statistics\n",
    "\n",
    "MnumericColumns = [column for column in Memory.columns if Memory.select(column).dtypes[0][1] != 'string']\n",
    "MstringColumns = [column for column in Memory.columns if Memory.select(column).dtypes[0][1] == 'string' and column not in ['attack','type']]\n",
    "\n",
    "PnumericColumns = [column for column in Process.columns if Process.select(column).dtypes[0][1] != 'string']\n",
    "PstringColumns = [column for column in Process.columns if Process.select(column).dtypes[0][1] == 'string' and column not in ['attack','type']]"
   ]
  },
  {
   "cell_type": "code",
   "execution_count": 16,
   "metadata": {
    "collapsed": true,
    "jupyter": {
     "outputs_hidden": true
    }
   },
   "outputs": [
    {
     "data": {
      "text/html": [
       "<div>\n",
       "<style scoped>\n",
       "    .dataframe tbody tr th:only-of-type {\n",
       "        vertical-align: middle;\n",
       "    }\n",
       "\n",
       "    .dataframe tbody tr th {\n",
       "        vertical-align: top;\n",
       "    }\n",
       "\n",
       "    .dataframe thead th {\n",
       "        text-align: right;\n",
       "    }\n",
       "</style>\n",
       "<table border=\"1\" class=\"dataframe\">\n",
       "  <thead>\n",
       "    <tr style=\"text-align: right;\">\n",
       "      <th></th>\n",
       "      <th>summary</th>\n",
       "      <th>ts</th>\n",
       "      <th>PID</th>\n",
       "      <th>MINFLT</th>\n",
       "      <th>MAJFLT</th>\n",
       "      <th>VSTEXT</th>\n",
       "      <th>VSIZE</th>\n",
       "      <th>RSIZE</th>\n",
       "      <th>VGROW</th>\n",
       "      <th>RGROW</th>\n",
       "      <th>MEM</th>\n",
       "    </tr>\n",
       "  </thead>\n",
       "  <tbody>\n",
       "    <tr>\n",
       "      <th>0</th>\n",
       "      <td>count</td>\n",
       "      <td>2000000</td>\n",
       "      <td>2000000</td>\n",
       "      <td>2000000</td>\n",
       "      <td>2000000</td>\n",
       "      <td>2000000</td>\n",
       "      <td>2000000</td>\n",
       "      <td>2000000</td>\n",
       "      <td>2000000</td>\n",
       "      <td>2000000</td>\n",
       "      <td>2000000</td>\n",
       "    </tr>\n",
       "    <tr>\n",
       "      <th>1</th>\n",
       "      <td>mean</td>\n",
       "      <td>1.55624581707609E9</td>\n",
       "      <td>4999.360446</td>\n",
       "      <td>983.344344</td>\n",
       "      <td>987846.5873270865</td>\n",
       "      <td>46453.27415208986</td>\n",
       "      <td>4496.419966448754</td>\n",
       "      <td>23722.888664201997</td>\n",
       "      <td>984.4668735599994</td>\n",
       "      <td>483.17466255</td>\n",
       "      <td>0.003385165000001682</td>\n",
       "    </tr>\n",
       "    <tr>\n",
       "      <th>2</th>\n",
       "      <td>stddev</td>\n",
       "      <td>984463.3682899196</td>\n",
       "      <td>4887.313351921473</td>\n",
       "      <td>19229.610980642334</td>\n",
       "      <td>1.4842874238098994E7</td>\n",
       "      <td>658730.2051543018</td>\n",
       "      <td>9046.338093399043</td>\n",
       "      <td>1986383.180873521</td>\n",
       "      <td>86174.82585202329</td>\n",
       "      <td>1491.4761059171788</td>\n",
       "      <td>0.010943425779985876</td>\n",
       "    </tr>\n",
       "    <tr>\n",
       "      <th>3</th>\n",
       "      <td>min</td>\n",
       "      <td>1554216855</td>\n",
       "      <td>1007</td>\n",
       "      <td>0</td>\n",
       "      <td>0.0</td>\n",
       "      <td>0.0</td>\n",
       "      <td>0.0</td>\n",
       "      <td>-9728.0</td>\n",
       "      <td>-9392000.0</td>\n",
       "      <td>0.0</td>\n",
       "      <td>0.0</td>\n",
       "    </tr>\n",
       "    <tr>\n",
       "      <th>4</th>\n",
       "      <td>max</td>\n",
       "      <td>1558355716</td>\n",
       "      <td>53096</td>\n",
       "      <td>8050000</td>\n",
       "      <td>2.244E8</td>\n",
       "      <td>1.12E7</td>\n",
       "      <td>88040.0</td>\n",
       "      <td>2.244E8</td>\n",
       "      <td>1.116E7</td>\n",
       "      <td>98920.0</td>\n",
       "      <td>0.44</td>\n",
       "    </tr>\n",
       "  </tbody>\n",
       "</table>\n",
       "</div>"
      ],
      "text/plain": [
       "  summary                  ts                PID              MINFLT  \\\n",
       "0   count             2000000            2000000             2000000   \n",
       "1    mean  1.55624581707609E9        4999.360446          983.344344   \n",
       "2  stddev   984463.3682899196  4887.313351921473  19229.610980642334   \n",
       "3     min          1554216855               1007                   0   \n",
       "4     max          1558355716              53096             8050000   \n",
       "\n",
       "                 MAJFLT             VSTEXT              VSIZE  \\\n",
       "0               2000000            2000000            2000000   \n",
       "1     987846.5873270865  46453.27415208986  4496.419966448754   \n",
       "2  1.4842874238098994E7  658730.2051543018  9046.338093399043   \n",
       "3                   0.0                0.0                0.0   \n",
       "4               2.244E8             1.12E7            88040.0   \n",
       "\n",
       "                RSIZE              VGROW               RGROW  \\\n",
       "0             2000000            2000000             2000000   \n",
       "1  23722.888664201997  984.4668735599994        483.17466255   \n",
       "2   1986383.180873521  86174.82585202329  1491.4761059171788   \n",
       "3             -9728.0         -9392000.0                 0.0   \n",
       "4             2.244E8            1.116E7             98920.0   \n",
       "\n",
       "                    MEM  \n",
       "0               2000000  \n",
       "1  0.003385165000001682  \n",
       "2  0.010943425779985876  \n",
       "3                   0.0  \n",
       "4                  0.44  "
      ]
     },
     "execution_count": 16,
     "metadata": {},
     "output_type": "execute_result"
    }
   ],
   "source": [
    "Memory.select(MnumericColumns).describe().toPandas().drop(['attack'],axis=1)"
   ]
  },
  {
   "cell_type": "code",
   "execution_count": 17,
   "metadata": {
    "collapsed": true,
    "jupyter": {
     "outputs_hidden": true
    }
   },
   "outputs": [
    {
     "data": {
      "text/html": [
       "<div>\n",
       "<style scoped>\n",
       "    .dataframe tbody tr th:only-of-type {\n",
       "        vertical-align: middle;\n",
       "    }\n",
       "\n",
       "    .dataframe tbody tr th {\n",
       "        vertical-align: top;\n",
       "    }\n",
       "\n",
       "    .dataframe thead th {\n",
       "        text-align: right;\n",
       "    }\n",
       "</style>\n",
       "<table border=\"1\" class=\"dataframe\">\n",
       "  <thead>\n",
       "    <tr style=\"text-align: right;\">\n",
       "      <th></th>\n",
       "      <th>summary</th>\n",
       "      <th>ts</th>\n",
       "      <th>PID</th>\n",
       "      <th>TRUN</th>\n",
       "      <th>TSLPI</th>\n",
       "      <th>TSLPU</th>\n",
       "      <th>NICE</th>\n",
       "      <th>PRI</th>\n",
       "      <th>RTPR</th>\n",
       "      <th>CPUNR</th>\n",
       "      <th>EXC</th>\n",
       "      <th>CPU</th>\n",
       "    </tr>\n",
       "  </thead>\n",
       "  <tbody>\n",
       "    <tr>\n",
       "      <th>0</th>\n",
       "      <td>count</td>\n",
       "      <td>1927968</td>\n",
       "      <td>1927968</td>\n",
       "      <td>1927968</td>\n",
       "      <td>1927968</td>\n",
       "      <td>1927968</td>\n",
       "      <td>1927968</td>\n",
       "      <td>1927968</td>\n",
       "      <td>1927968</td>\n",
       "      <td>1927968</td>\n",
       "      <td>1927968</td>\n",
       "      <td>1927968</td>\n",
       "    </tr>\n",
       "    <tr>\n",
       "      <th>1</th>\n",
       "      <td>mean</td>\n",
       "      <td>1.5563198311840394E9</td>\n",
       "      <td>5068.709770597852</td>\n",
       "      <td>0.0632287465352122</td>\n",
       "      <td>3.508334163222626</td>\n",
       "      <td>3.6100184235422994E-4</td>\n",
       "      <td>4.634469555511295</td>\n",
       "      <td>111.26826741937626</td>\n",
       "      <td>0.0</td>\n",
       "      <td>1.9210142491991569</td>\n",
       "      <td>0.030275398761805176</td>\n",
       "      <td>0.02238527299209388</td>\n",
       "    </tr>\n",
       "    <tr>\n",
       "      <th>2</th>\n",
       "      <td>stddev</td>\n",
       "      <td>771350.0248109235</td>\n",
       "      <td>4987.784329320437</td>\n",
       "      <td>0.247825870904161</td>\n",
       "      <td>6.988459728531793</td>\n",
       "      <td>0.04421874419214597</td>\n",
       "      <td>8.40318986475207</td>\n",
       "      <td>22.624445062102893</td>\n",
       "      <td>0.0</td>\n",
       "      <td>1.5274047225903056</td>\n",
       "      <td>1.4619498567691878</td>\n",
       "      <td>0.13628943687184275</td>\n",
       "    </tr>\n",
       "    <tr>\n",
       "      <th>3</th>\n",
       "      <td>min</td>\n",
       "      <td>1554216855</td>\n",
       "      <td>1007</td>\n",
       "      <td>0</td>\n",
       "      <td>0</td>\n",
       "      <td>0</td>\n",
       "      <td>0</td>\n",
       "      <td>0</td>\n",
       "      <td>0</td>\n",
       "      <td>0</td>\n",
       "      <td>0</td>\n",
       "      <td>0.0</td>\n",
       "    </tr>\n",
       "    <tr>\n",
       "      <th>4</th>\n",
       "      <td>max</td>\n",
       "      <td>1557593017</td>\n",
       "      <td>53080</td>\n",
       "      <td>12</td>\n",
       "      <td>70</td>\n",
       "      <td>21</td>\n",
       "      <td>20</td>\n",
       "      <td>139</td>\n",
       "      <td>0</td>\n",
       "      <td>5</td>\n",
       "      <td>127</td>\n",
       "      <td>4.02</td>\n",
       "    </tr>\n",
       "  </tbody>\n",
       "</table>\n",
       "</div>"
      ],
      "text/plain": [
       "  summary                    ts                PID                TRUN  \\\n",
       "0   count               1927968            1927968             1927968   \n",
       "1    mean  1.5563198311840394E9  5068.709770597852  0.0632287465352122   \n",
       "2  stddev     771350.0248109235  4987.784329320437   0.247825870904161   \n",
       "3     min            1554216855               1007                   0   \n",
       "4     max            1557593017              53080                  12   \n",
       "\n",
       "               TSLPI                  TSLPU               NICE  \\\n",
       "0            1927968                1927968            1927968   \n",
       "1  3.508334163222626  3.6100184235422994E-4  4.634469555511295   \n",
       "2  6.988459728531793    0.04421874419214597   8.40318986475207   \n",
       "3                  0                      0                  0   \n",
       "4                 70                     21                 20   \n",
       "\n",
       "                  PRI     RTPR               CPUNR                   EXC  \\\n",
       "0             1927968  1927968             1927968               1927968   \n",
       "1  111.26826741937626      0.0  1.9210142491991569  0.030275398761805176   \n",
       "2  22.624445062102893      0.0  1.5274047225903056    1.4619498567691878   \n",
       "3                   0        0                   0                     0   \n",
       "4                 139        0                   5                   127   \n",
       "\n",
       "                   CPU  \n",
       "0              1927968  \n",
       "1  0.02238527299209388  \n",
       "2  0.13628943687184275  \n",
       "3                  0.0  \n",
       "4                 4.02  "
      ]
     },
     "execution_count": 17,
     "metadata": {},
     "output_type": "execute_result"
    }
   ],
   "source": [
    "Process.select(PnumericColumns).describe().toPandas().drop(['attack'],axis=1)"
   ]
  },
  {
   "cell_type": "markdown",
   "metadata": {},
   "source": [
    "The values shown above seem mostly compatible with the descriptions in our provided metadata file, with the notable exception of `RTPR` in `Process`, which seems to be a column composed entirely of 0's. From the metadata file, we know:\n",
    "\n",
    "- This column's value is supposed to range from 0 to 99\n",
    "- It denotes a priority on the basis of `POLI`, the scheduling policy, which seems to be either `'norm'`, `'0'`, or `'-'`.\n",
    "    - Since we don't know what `'0'` or `'-'` represent, it is difficult to ascertain whether the data in `RTPR` is accurate. \n",
    "    \n",
    "In any case, when the features are encoded, it is likely that these will be converted into numerical factors. During that process, we are guaranteed to find that `RTPR` is a functionally useless variable, and can be ignored entirely. Since it only takes a value of `0`, it is incapable of adding to or detracting from any model we create.\n",
    "\n",
    "We can verify this using the following `groupBy` method, confirming that while `RTPR` does not seem to be incompatible with its metadata and/or related columns, it is guaranteed to be excluded during model-building."
   ]
  },
  {
   "cell_type": "code",
   "execution_count": 18,
   "metadata": {
    "collapsed": true,
    "jupyter": {
     "outputs_hidden": true
    }
   },
   "outputs": [
    {
     "name": "stdout",
     "output_type": "stream",
     "text": [
      "+----+---+----+-------+\n",
      "|POLI|PRI|RTPR|  count|\n",
      "+----+---+----+-------+\n",
      "|norm|120|   0|1394954|\n",
      "|   0|  0|   0|  53216|\n",
      "|norm|110|   0|     15|\n",
      "|norm|130|   0|   1586|\n",
      "|norm|109|   0|   6765|\n",
      "|norm|100|   0| 441282|\n",
      "|   -|  0|   0|  13194|\n",
      "|norm|121|   0|  16840|\n",
      "|norm|139|   0|    116|\n",
      "+----+---+----+-------+\n",
      "\n"
     ]
    }
   ],
   "source": [
    "Process.groupBy('POLI','PRI',\"RTPR\").count().show()"
   ]
  },
  {
   "cell_type": "markdown",
   "metadata": {},
   "source": [
    "Another issue is that `NICE` in Process does not seem to naturally take a value between -20 to +19 as described in the metadata file, but the Ed Forum discussion located at https://edstem.org/courses/4542/discussion/307873?answer=714563 provides a solution, informing us that this value can be derived from the `PRI` column, which I have implemented as follows:"
   ]
  },
  {
   "cell_type": "code",
   "execution_count": 19,
   "metadata": {
    "collapsed": true,
    "jupyter": {
     "outputs_hidden": true
    }
   },
   "outputs": [],
   "source": [
    "def NICEFixer (value):\n",
    "    \n",
    "    return(value-120)"
   ]
  },
  {
   "cell_type": "code",
   "execution_count": 20,
   "metadata": {
    "collapsed": true,
    "jupyter": {
     "outputs_hidden": true
    }
   },
   "outputs": [],
   "source": [
    "NICEFixerUDF = udf(lambda x: NICEFixer(x))"
   ]
  },
  {
   "cell_type": "code",
   "execution_count": 21,
   "metadata": {
    "collapsed": true,
    "jupyter": {
     "outputs_hidden": true
    }
   },
   "outputs": [],
   "source": [
    "Process = Process.withColumn('NICE',NICEFixerUDF('PRI'))"
   ]
  },
  {
   "cell_type": "code",
   "execution_count": 22,
   "metadata": {
    "collapsed": true,
    "jupyter": {
     "outputs_hidden": true
    }
   },
   "outputs": [
    {
     "name": "stdout",
     "output_type": "stream",
     "text": [
      "+----------+------+\n",
      "|       CMD| count|\n",
      "+----------+------+\n",
      "|      atop|325985|\n",
      "|   apache2| 89761|\n",
      "| jfsCommit| 81714|\n",
      "|  vmtoolsd| 77871|\n",
      "|      Xorg| 49981|\n",
      "|  nautilus| 48356|\n",
      "|irqbalance| 44387|\n",
      "|    compiz| 44356|\n",
      "|  ostinato| 43024|\n",
      "|     drone| 41392|\n",
      "+----------+------+\n",
      "only showing top 10 rows\n",
      "\n"
     ]
    }
   ],
   "source": [
    "# Summary statistics for string columns\n",
    "for column in MstringColumns:\n",
    "    Memory\\\n",
    "    .select(column)\\\n",
    "    .groupBy(column)\\\n",
    "    .count()\\\n",
    "    .sort(desc('count'))\\\n",
    "    .show(10)"
   ]
  },
  {
   "cell_type": "code",
   "execution_count": 23,
   "metadata": {
    "collapsed": true,
    "jupyter": {
     "outputs_hidden": true
    }
   },
   "outputs": [
    {
     "name": "stdout",
     "output_type": "stream",
     "text": [
      "+----+-------+\n",
      "|POLI|  count|\n",
      "+----+-------+\n",
      "|norm|1861558|\n",
      "|   0|  53216|\n",
      "|   -|  13194|\n",
      "+----+-------+\n",
      "\n",
      "+------+-------+\n",
      "|Status|  count|\n",
      "+------+-------+\n",
      "|     -|1416322|\n",
      "|     0| 438984|\n",
      "|    NE|  48602|\n",
      "|     N|  23313|\n",
      "|    NS|    743|\n",
      "|     C|      3|\n",
      "|    NC|      1|\n",
      "+------+-------+\n",
      "\n",
      "+-----+-------+\n",
      "|State|  count|\n",
      "+-----+-------+\n",
      "|    S|1676350|\n",
      "|    I|  98986|\n",
      "|    R|  84753|\n",
      "|    E|  66410|\n",
      "|    Z|   1118|\n",
      "|    D|    344|\n",
      "|    T|      7|\n",
      "+-----+-------+\n",
      "\n",
      "+--------------+------+\n",
      "|           CMD| count|\n",
      "+--------------+------+\n",
      "|          atop|441180|\n",
      "|       apache2|313143|\n",
      "|      vmtoolsd|112029|\n",
      "|          Xorg| 66813|\n",
      "|      nautilus| 63449|\n",
      "|gnome-terminal| 47628|\n",
      "|        compiz| 44386|\n",
      "|    irqbalance| 44324|\n",
      "|      ostinato| 42979|\n",
      "|         drone| 41390|\n",
      "+--------------+------+\n",
      "only showing top 10 rows\n",
      "\n"
     ]
    }
   ],
   "source": [
    "# Summary statistics for string columns\n",
    "for column in PstringColumns:\n",
    "    Process\\\n",
    "    .select(column)\\\n",
    "    .groupBy(column)\\\n",
    "    .count()\\\n",
    "    .sort(desc('count'))\\\n",
    "    .show(10)"
   ]
  },
  {
   "cell_type": "markdown",
   "metadata": {},
   "source": [
    "Here, we note that the `POLI`, and `Status` columns seem to contain `'-'`. In fact, 73% of the rows in Process have their `Status` value set to `'-'`. The situation is not as bad in `POLI`, with less than 1% of rows being affected. \n",
    "\n",
    "It is not entirely clear if this is intentional, but the Bonus Task in Section 2.2.2 seems to suggest that `POLI` is supposed to include `'-'` as one of its values.\n",
    "\n",
    "As for `Status`, I am unclear as to whether or not `'-'` is a valid value. However, https://www.poftut.com/atop-command-tutorial-examples-monitor-linux-system-meterics/ seems to suggest that `'-'` is sometimes a valid result within the `ST` column."
   ]
  },
  {
   "cell_type": "markdown",
   "metadata": {},
   "source": [
    "## 1.3.3\n",
    "\n",
    "In this section, we are tasked with providing 'worthy' plots to the StopHacking company. Of course, as plots show relationships between 1 or more variables, so will these plots. However, it is important to note that since this is essentially a classification task rather than a regression task, these relationships will not be immediately apparent in the plots, especially since we are required to plot the relationship between one or more columns against the attack column.\n",
    "\n",
    "Here, correlation plots or correlation matrices will also not be very helpful, as we are not interested in linear relationships. Since the model we will consider in the future is based on decision trees, we are essentially considering features where a particular value for that feature is a good indicator for the value taken by the label. \n",
    "\n",
    "A very simplified example of this; ~95% of people earning more than 1 million dollars annually are approved for a loan, and a decision tree will be able to predict with 95% accuracy, the likelihood of an applicant being approved. Conversely, some features will not share this relationship. The day of the week, for example, will probably not have a comparable relationship. \n",
    "\n",
    "Before we finalise the plots worthy enough to show the StopHacking company, we would internally consider our label's relationship with all its variables, and select the two variables (for each activity) that best appropriate the relationship described above.\n",
    "\n",
    "We consider scatter plots here, simply to identify the co-occurrence of 0 and 1 values of attack, with the values assumed by each feature. However, we must also consider the non-numeric features, such as `POLI`, and `Status`, which in addition to being non-numeric, contain odd values such as `'-'`, which would first need to be indexed to enable a more complete view of the relationships across these variables:"
   ]
  },
  {
   "cell_type": "code",
   "execution_count": 24,
   "metadata": {
    "collapsed": true,
    "jupyter": {
     "outputs_hidden": true
    }
   },
   "outputs": [],
   "source": [
    "# Use a StringIndexer to be able to plot <string columns> vs attack\n",
    "MoutputCols=[f'{x}_index' for x in MstringColumns]\n",
    "PoutputCols=[f'{x}_index' for x in PstringColumns]\n",
    "\n",
    "Mindexer = StringIndexer(inputCols=MstringColumns, outputCols=MoutputCols)\n",
    "Mindexed = Mindexer.fit(Memory).transform(Memory)\n",
    "\n",
    "Pindexer = StringIndexer(inputCols=PstringColumns, outputCols=PoutputCols)\n",
    "Pindexed = Pindexer.fit(Process).transform(Process)"
   ]
  },
  {
   "cell_type": "code",
   "execution_count": 25,
   "metadata": {
    "collapsed": true,
    "jupyter": {
     "outputs_hidden": true
    }
   },
   "outputs": [],
   "source": [
    "# Now, numeric columns also include StringIndexed columns\n",
    "MnumericColumns = [column for column in Mindexed.columns if Mindexed.select(column).dtypes[0][1] != 'string']\n",
    "PnumericColumns = [column for column in Pindexed.columns if Pindexed.select(column).dtypes[0][1] != 'string']"
   ]
  },
  {
   "cell_type": "code",
   "execution_count": 26,
   "metadata": {
    "collapsed": true,
    "jupyter": {
     "outputs_hidden": true
    }
   },
   "outputs": [],
   "source": [
    "# Cast to pandas to use with matplotlib\n",
    "MemoryDf = Mindexed.toPandas()\n",
    "ProcessDf = Pindexed.toPandas()"
   ]
  },
  {
   "cell_type": "code",
   "execution_count": 27,
   "metadata": {
    "collapsed": true,
    "jupyter": {
     "outputs_hidden": true
    }
   },
   "outputs": [
    {
     "data": {
      "image/png": "[encoded data removed]",
      "text/plain": [
       "<Figure size 432x288 with 1 Axes>"
      ]
     },
     "metadata": {
      "needs_background": "light"
     },
     "output_type": "display_data"
    },
    {
     "data": {
      "image/png": "[encoded data removed]",
      "text/plain": [
       "<Figure size 432x288 with 1 Axes>"
      ]
     },
     "metadata": {
      "needs_background": "light"
     },
     "output_type": "display_data"
    },
    {
     "data": {
      "image/png": "[encoded data removed]",
      "text/plain": [
       "<Figure size 432x288 with 1 Axes>"
      ]
     },
     "metadata": {
      "needs_background": "light"
     },
     "output_type": "display_data"
    },
    {
     "data": {
      "image/png": "[encoded data removed]",
      "text/plain": [
       "<Figure size 432x288 with 1 Axes>"
      ]
     },
     "metadata": {
      "needs_background": "light"
     },
     "output_type": "display_data"
    },
    {
     "data": {
      "image/png": "[encoded data removed]",
      "text/plain": [
       "<Figure size 432x288 with 1 Axes>"
      ]
     },
     "metadata": {
      "needs_background": "light"
     },
     "output_type": "display_data"
    },
    {
     "data": {
      "image/png": "[encoded data removed]",
      "text/plain": [
       "<Figure size 432x288 with 1 Axes>"
      ]
     },
     "metadata": {
      "needs_background": "light"
     },
     "output_type": "display_data"
    },
    {
     "data": {
      "image/png": "[encoded data removed]",
      "text/plain": [
       "<Figure size 432x288 with 1 Axes>"
      ]
     },
     "metadata": {
      "needs_background": "light"
     },
     "output_type": "display_data"
    },
    {
     "data": {
      "image/png": "[encoded data removed]",
      "text/plain": [
       "<Figure size 432x288 with 1 Axes>"
      ]
     },
     "metadata": {
      "needs_background": "light"
     },
     "output_type": "display_data"
    },
    {
     "data": {
      "image/png": "[encoded data removed]",
      "text/plain": [
       "<Figure size 432x288 with 1 Axes>"
      ]
     },
     "metadata": {
      "needs_background": "light"
     },
     "output_type": "display_data"
    },
    {
     "data": {
      "image/png": "[encoded data removed]",
      "text/plain": [
       "<Figure size 432x288 with 1 Axes>"
      ]
     },
     "metadata": {
      "needs_background": "light"
     },
     "output_type": "display_data"
    },
    {
     "data": {
      "image/png": "[encoded data removed]",
      "text/plain": [
       "<Figure size 432x288 with 1 Axes>"
      ]
     },
     "metadata": {
      "needs_background": "light"
     },
     "output_type": "display_data"
    }
   ],
   "source": [
    "for column in [column for column in MnumericColumns if column != 'attack']:\n",
    "    plt.xlabel(column)\n",
    "    plt.ylabel('Attack')\n",
    "    plt.title(column + ' VS Attack')\n",
    "    plt.scatter(MemoryDf[column], MemoryDf.attack)\n",
    "    plt.show()"
   ]
  },
  {
   "cell_type": "markdown",
   "metadata": {},
   "source": [
    "We have already established how decision trees work, and so we can note that if a feature's values do not seem to share a relationship with attack, the relationship is not going to be particularly compelling for a decision tree algorithm. These are determined by identifying plots where there is no range or subset of feature values that seem to indicate the presence or absence of an attack. Immediately, we can see **features that do NOT seem to be a strong indicator of the label value**. :\n",
    "\n",
    "\n",
    "- `ts`: While this variable reliably identifies a subset of values for which attacks seem to take place, this is simply a timestamp and so is not \n",
    "generalisable.\n",
    "\n",
    "- `PID`\n",
    "- `MAJFLT`\n",
    "- `VSTEXT`\n",
    "- `VSTEXT`\n",
    "- `VSIZE`\n",
    "- `RSIZE`\n",
    "- `MEM`\n",
    "\n",
    "**Features that DO seem to be a strong indicator of the label value**:\n",
    "\n",
    "- `MINFLT`: Feature values close to its maximum of 8,000,000 seem to universally indicate a non-attack\n",
    "- `VGROW`: Negative feature values seem to universally indicate an attack\n",
    "- `RGROW`: Feature values above 60,000 may indicate a non-attack\n",
    "- `CMD_index`: At values higher than 500, an attack seems unlikely but not impossible\n",
    "\n",
    "Based on these observations, **I would select the following graphs to present to StopHacking**:\n",
    "\n",
    "- `MINFLT` VS `attack`\n",
    "- `VGROW` VS `attack`"
   ]
  },
  {
   "cell_type": "code",
   "execution_count": 28,
   "metadata": {
    "collapsed": true,
    "jupyter": {
     "outputs_hidden": true
    }
   },
   "outputs": [
    {
     "data": {
      "image/png": "[encoded data removed]",
      "text/plain": [
       "<Figure size 432x288 with 1 Axes>"
      ]
     },
     "metadata": {
      "needs_background": "light"
     },
     "output_type": "display_data"
    }
   ],
   "source": [
    "plt.xlabel('MINFLT')\n",
    "plt.ylabel('Attack')\n",
    "plt.title('MINFLT vs Attack')\n",
    "plt.scatter(MemoryDf['MINFLT'],MemoryDf['attack'])\n",
    "plt.show()"
   ]
  },
  {
   "cell_type": "markdown",
   "metadata": {},
   "source": [
    "Here, it is easy to see that while it is difficult to label a process as attack or non-attack given a `MINFLT` value of 0, the same is not true for a `MINFLT` value of 8,000,000. While the former cannot be reliably classified, the latter is easily and universally classifiable as a non-attack. Roughly applying this logic to a decision tree, such a value would be accurately and reliably used to classify a process as a non-attack."
   ]
  },
  {
   "cell_type": "code",
   "execution_count": 29,
   "metadata": {
    "collapsed": true,
    "jupyter": {
     "outputs_hidden": true
    }
   },
   "outputs": [
    {
     "data": {
      "image/png": "[encoded data removed]",
      "text/plain": [
       "<Figure size 432x288 with 1 Axes>"
      ]
     },
     "metadata": {
      "needs_background": "light"
     },
     "output_type": "display_data"
    }
   ],
   "source": [
    "plt.xlabel('VGROW')\n",
    "plt.ylabel('Attack')\n",
    "plt.scatter(MemoryDf['VGROW'],MemoryDf['attack'])\n",
    "plt.show()"
   ]
  },
  {
   "cell_type": "markdown",
   "metadata": {},
   "source": [
    "Here, it is equally easy to see that a `VGROW` value lower than 0 reliably predicts an attack, whereas such a distinction cannot be made for values greater than or equal to 0, which could indicate either an attack or a non-attack. A combination of such features could be used for greater accuracy in detecting an attack. For example, a high `MINFLT` value coupled with a high `VGROW` value would likely be classified a non-attack, whereas a low `MINFLT` value coupled with a low `VGROW` value is likelier to be an attack. \n",
    "\n",
    "Predictions based on features such as these would only gain accuracy when combined with other features that also show certain patterns with regard to the presence of an attack, such as `RGROW`, and `MEM`, which also exhibit similar properties, but with a narrower range of values.\n",
    "\n",
    "We now repeat the above process for the Process Dataframe:"
   ]
  },
  {
   "cell_type": "code",
   "execution_count": 30,
   "metadata": {
    "collapsed": true,
    "jupyter": {
     "outputs_hidden": true
    }
   },
   "outputs": [
    {
     "data": {
      "image/png": "[encoded data removed]",
      "text/plain": [
       "<Figure size 432x288 with 1 Axes>"
      ]
     },
     "metadata": {
      "needs_background": "light"
     },
     "output_type": "display_data"
    },
    {
     "data": {
      "image/png": "[encoded data removed]",
      "text/plain": [
       "<Figure size 432x288 with 1 Axes>"
      ]
     },
     "metadata": {
      "needs_background": "light"
     },
     "output_type": "display_data"
    },
    {
     "data": {
      "image/png": "[encoded data removed]",
      "text/plain": [
       "<Figure size 432x288 with 1 Axes>"
      ]
     },
     "metadata": {
      "needs_background": "light"
     },
     "output_type": "display_data"
    },
    {
     "data": {
      "image/png": "[encoded data removed]",
      "text/plain": [
       "<Figure size 432x288 with 1 Axes>"
      ]
     },
     "metadata": {
      "needs_background": "light"
     },
     "output_type": "display_data"
    },
    {
     "data": {
      "image/png": "[encoded data removed]",
      "text/plain": [
       "<Figure size 432x288 with 1 Axes>"
      ]
     },
     "metadata": {
      "needs_background": "light"
     },
     "output_type": "display_data"
    },
    {
     "data": {
      "image/png": "[encoded data removed]",
      "text/plain": [
       "<Figure size 432x288 with 1 Axes>"
      ]
     },
     "metadata": {
      "needs_background": "light"
     },
     "output_type": "display_data"
    },
    {
     "data": {
      "image/png": "[encoded data removed]",
      "text/plain": [
       "<Figure size 432x288 with 1 Axes>"
      ]
     },
     "metadata": {
      "needs_background": "light"
     },
     "output_type": "display_data"
    },
    {
     "data": {
      "image/png": "[encoded data removed]",
      "text/plain": [
       "<Figure size 432x288 with 1 Axes>"
      ]
     },
     "metadata": {
      "needs_background": "light"
     },
     "output_type": "display_data"
    },
    {
     "data": {
      "image/png": "[encoded data removed]",
      "text/plain": [
       "<Figure size 432x288 with 1 Axes>"
      ]
     },
     "metadata": {
      "needs_background": "light"
     },
     "output_type": "display_data"
    },
    {
     "data": {
      "image/png": "[encoded data removed]",
      "text/plain": [
       "<Figure size 432x288 with 1 Axes>"
      ]
     },
     "metadata": {
      "needs_background": "light"
     },
     "output_type": "display_data"
    },
    {
     "data": {
      "image/png": "[encoded data removed]",
      "text/plain": [
       "<Figure size 432x288 with 1 Axes>"
      ]
     },
     "metadata": {
      "needs_background": "light"
     },
     "output_type": "display_data"
    },
    {
     "data": {
      "image/png": "[encoded data removed]",
      "text/plain": [
       "<Figure size 432x288 with 1 Axes>"
      ]
     },
     "metadata": {
      "needs_background": "light"
     },
     "output_type": "display_data"
    },
    {
     "data": {
      "image/png": "[encoded data removed]",
      "text/plain": [
       "<Figure size 432x288 with 1 Axes>"
      ]
     },
     "metadata": {
      "needs_background": "light"
     },
     "output_type": "display_data"
    },
    {
     "data": {
      "image/png": "[encoded data removed]",
      "text/plain": [
       "<Figure size 432x288 with 1 Axes>"
      ]
     },
     "metadata": {
      "needs_background": "light"
     },
     "output_type": "display_data"
    }
   ],
   "source": [
    "for column in [column for column in PnumericColumns if column != 'attack']:\n",
    "    plt.xlabel(column)\n",
    "    plt.ylabel('Attack')\n",
    "    plt.title(column + ' VS Attack')\n",
    "    plt.scatter(ProcessDf[column], ProcessDf.attack)\n",
    "    plt.show()"
   ]
  },
  {
   "cell_type": "markdown",
   "metadata": {},
   "source": [
    "We have already established how decision trees work, and so we can note that if a feature's values do not seem to share a relationship with attack, the relationship is not going to be particularly compelling for a decision tree algorithm. These are determined by identifying plots where there is no range or subset of feature values that seem to indicate the presence or absence of an attack. Immediately, we can see **features that do NOT seem to be a strong indicator of the label value**. :\n",
    "\n",
    "\n",
    "- `ts`: While this variable reliably identifies a subset of values for which attacks seem to take place, this is simply a timestamp and so is not \n",
    "generalisable.\n",
    "- `PID`\n",
    "- `TSLPI`\n",
    "- `PRI`\n",
    "- `RTPR`\n",
    "- `CPUNR`\n",
    "- `EXC`\n",
    "- `CPU`\n",
    "\n",
    "**Features that DO seem to be a strong indicator of the label value**:\n",
    "\n",
    "- `TRUN`: Feature values greater than ~9 seem to indicate a non-attack, and a value of 9 seems to indicate an attack\n",
    "- `TSLPU`: Feature values greater than ~10 seem to indicate a non-attack\n",
    "- `Status_Index`: An attack seems unlikely at a value of 6\n",
    "\n",
    "Based on these observations, **I would select the following graphs to present to StopHacking**:\n",
    "\n",
    "- `TRUN` VS `attack`\n",
    "- `TSLPU` VS `attack`"
   ]
  },
  {
   "cell_type": "code",
   "execution_count": 31,
   "metadata": {
    "collapsed": true,
    "jupyter": {
     "outputs_hidden": true
    }
   },
   "outputs": [
    {
     "data": {
      "image/png": "[encoded data removed]",
      "text/plain": [
       "<Figure size 432x288 with 1 Axes>"
      ]
     },
     "metadata": {
      "needs_background": "light"
     },
     "output_type": "display_data"
    }
   ],
   "source": [
    "plt.xlabel('TRUN')\n",
    "plt.ylabel('Attack')\n",
    "plt.title('TRUN VS Attack')\n",
    "plt.scatter(ProcessDf['TRUN'], ProcessDf.attack)\n",
    "plt.show()"
   ]
  },
  {
   "cell_type": "markdown",
   "metadata": {},
   "source": [
    "Here, we can note that a `TRUN` value of 12 always indicates a non-attack. We also see that a value of ~9 indicates an attack, but it in unclear whether this would be an entirely reliable estimator as this might represent only a single row where this is the case. It is also possible that the value of 12 represents an error in the data, or that it also represents a single row where this is the case."
   ]
  },
  {
   "cell_type": "code",
   "execution_count": 32,
   "metadata": {
    "collapsed": true,
    "jupyter": {
     "outputs_hidden": true
    }
   },
   "outputs": [
    {
     "data": {
      "image/png": "[encoded data removed]",
      "text/plain": [
       "<Figure size 432x288 with 1 Axes>"
      ]
     },
     "metadata": {
      "needs_background": "light"
     },
     "output_type": "display_data"
    }
   ],
   "source": [
    "plt.xlabel('TSLPU')\n",
    "plt.ylabel('Attack')\n",
    "plt.title('TSLPU VS Attack')\n",
    "plt.scatter(ProcessDf['TSLPU'], ProcessDf.attack)\n",
    "plt.show()"
   ]
  },
  {
   "cell_type": "markdown",
   "metadata": {},
   "source": [
    "Here, we can agian see that `TSLPU` values greater than 10 seem to universally indicate a non-attack, and that values smaller than 10 make it difficult to make such a determination. For the Process Dataframe, we can immediately note that we are not able to reliably tell when something is an attack. Instead, we are only able to reliably tell when something is NOT an attack, which is not as useful. Unfortunately, these are the only 2 features from the Process Dataframe that seem to share any sort of relationship with the `attack` label. \n",
    "\n",
    "We recall that in the Memory Dataframe, we were able to distinguish between attacks and non-attacks with only 2 features, but that there were also additional features which may have increased our accuracy. This is not a capability afforded to us by the Process Dataframe, meaning its related decision tree will likely not be as instrumental in detecting attacks.\n",
    "\n",
    "To summarise the plots that demonstrated interesting relationships:\n",
    "- Memory Dataframe:\n",
    "    - `MINFLT` VS `attack`\n",
    "    - `VGROW` VS `attack`\n",
    " \n",
    "\n",
    "- Process Dataframe:\n",
    "    - `TRUN` VS `attack`\n",
    "    - `TSLPU` VS `attack`"
   ]
  },
  {
   "cell_type": "markdown",
   "metadata": {},
   "source": [
    "# 2 - Feature Extraction & ML Training\n",
    "\n",
    "## 2.1 - Preparing the training data and testing data\n",
    "##  2.1.1"
   ]
  },
  {
   "cell_type": "code",
   "execution_count": 33,
   "metadata": {
    "collapsed": true,
    "jupyter": {
     "outputs_hidden": true
    }
   },
   "outputs": [],
   "source": [
    "Mtrain, Mtest = Memory.randomSplit([0.8, 0.2], seed=42)\n",
    "Ptrain, Ptest = Process.randomSplit([0.8, 0.2], seed=42)"
   ]
  },
  {
   "cell_type": "code",
   "execution_count": 34,
   "metadata": {
    "collapsed": true,
    "jupyter": {
     "outputs_hidden": true
    }
   },
   "outputs": [
    {
     "name": "stdout",
     "output_type": "stream",
     "text": [
      "Number of Rows in Memory:  2000000\n",
      "Number of Rows in Mtrain + Mtest:  1600005 + 399995 = 2000000\n",
      "Number of Rows in Mtrain / Number of Rows in Mtest:  4.00006250078126\n",
      "\n",
      "Number of Rows in Process:  1927968\n",
      "Number of Rows in Ptrain + Ptest:  1542231 + 385737 = 1927968\n",
      "Number of Rows in Ptrain / Number of Rows in Ptest:  3.9981412205725664\n"
     ]
    }
   ],
   "source": [
    "# Verify that the splitting process went as expected\n",
    "print ('Number of Rows in Memory: ', Memory.count())\n",
    "print ('Number of Rows in Mtrain + Mtest: ', Mtrain.count(),'+', Mtest.count(),'=',Mtrain.count()+Mtest.count())\n",
    "print ('Number of Rows in Mtrain / Number of Rows in Mtest: ', Mtrain.count()/Mtest.count())\n",
    "print ('\\nNumber of Rows in Process: ', Process.count())\n",
    "print ('Number of Rows in Ptrain + Ptest: ', Ptrain.count(),'+', Ptest.count(),'=',Ptrain.count()+Ptest.count())\n",
    "print ('Number of Rows in Ptrain / Number of Rows in Ptest: ', Ptrain.count()/Ptest.count())"
   ]
  },
  {
   "cell_type": "markdown",
   "metadata": {},
   "source": [
    "## 2.1.2"
   ]
  },
  {
   "cell_type": "markdown",
   "metadata": {},
   "source": [
    "In order to resample our data such that we only retain 20% of the rows where `attack`=1, and 40% of the rows where `attack`=0, we first need to determine how many such rows previously exist in our training data:"
   ]
  },
  {
   "cell_type": "code",
   "execution_count": 35,
   "metadata": {
    "collapsed": true,
    "jupyter": {
     "outputs_hidden": true
    }
   },
   "outputs": [
    {
     "name": "stdout",
     "output_type": "stream",
     "text": [
      "+------+-------+\n",
      "|attack|  count|\n",
      "+------+-------+\n",
      "|     0|1435753|\n",
      "|     1| 164252|\n",
      "+------+-------+\n",
      "\n"
     ]
    }
   ],
   "source": [
    "# Inspect our data for resampling\n",
    "Mtrain.groupBy(\"attack\").count().orderBy(\"attack\").show()"
   ]
  },
  {
   "cell_type": "markdown",
   "metadata": {},
   "source": [
    "With 164,252 attacks and 1,435,753 non-attacks, we are interested in a refined Mtrain such that it includes:\n",
    "\n",
    "- $164,252\\times20\\%\\approx32,850$ attack rows, representing 20% of the rows where `attack`=1\n",
    "- $32,850\\times2=65,700$ non-attack rows, representing $\\frac{65,700100\\times}{1,435,753}\\approx4.57\\%$ of the rows where `attack`=0\n",
    "\n",
    "Using `sampleBy`, we would need to specify these calculated percentages:"
   ]
  },
  {
   "cell_type": "code",
   "execution_count": 36,
   "metadata": {
    "collapsed": true,
    "jupyter": {
     "outputs_hidden": true
    }
   },
   "outputs": [
    {
     "name": "stdout",
     "output_type": "stream",
     "text": [
      "+------+-----+\n",
      "|attack|count|\n",
      "+------+-----+\n",
      "|     0|65767|\n",
      "|     1|33121|\n",
      "+------+-----+\n",
      "\n"
     ]
    }
   ],
   "source": [
    "# Resample our data as per requirements\n",
    "rebalancedMtrain = Mtrain.sampleBy(\"attack\", fractions={0: 0.0457, 1: 0.2}, seed=42)\n",
    "rebalancedMtrain.groupBy(\"attack\").count().orderBy(\"attack\").show()\n",
    "Mtrain = rebalancedMtrain"
   ]
  },
  {
   "cell_type": "markdown",
   "metadata": {},
   "source": [
    "With 232,901 attacks and 1,309,330 non-attacks, we are interested in a refined Mtrain such that it includes:\n",
    "\n",
    "- $232,901\\times20\\%\\approx46,580$ attack rows, representing 20% of the rows where `attack`=1\n",
    "- $46,580\\times2=93,160$ non-attack rows, representing $\\frac{93,160\\times100}{1,309,330}\\approx7.12\\%$ of the rows where `attack`=0\n",
    "\n",
    "Using `sampleBy`, we would need to specify these calculated percentages:"
   ]
  },
  {
   "cell_type": "code",
   "execution_count": 37,
   "metadata": {
    "collapsed": true,
    "jupyter": {
     "outputs_hidden": true
    }
   },
   "outputs": [
    {
     "name": "stdout",
     "output_type": "stream",
     "text": [
      "+------+-----+\n",
      "|attack|count|\n",
      "+------+-----+\n",
      "|     0|93141|\n",
      "|     1|46925|\n",
      "+------+-----+\n",
      "\n"
     ]
    }
   ],
   "source": [
    "rebalancedPtrain = Ptrain.sampleBy(\"attack\", fractions={0: 0.0712, 1: 0.2}, seed=42)\n",
    "rebalancedPtrain.groupBy(\"attack\").count().orderBy(\"attack\").show()\n",
    "Ptrain = rebalancedPtrain"
   ]
  },
  {
   "cell_type": "markdown",
   "metadata": {},
   "source": [
    "We have successfully rebalanced our data to conform to the requirements specified in Section 2.1.2"
   ]
  },
  {
   "cell_type": "markdown",
   "metadata": {},
   "source": [
    "## 2.2 - Preparing features, labels, and models\n",
    "## 2.2.1"
   ]
  },
  {
   "cell_type": "markdown",
   "metadata": {
    "jupyter": {
     "outputs_hidden": true
    }
   },
   "source": [
    "Based on discussions above, I would hypothesise that the following features would be the most useful:\n",
    "\n",
    "- Memory Dataframe:\n",
    "    - `MINFLT`\n",
    "    - `VGROW`\n",
    "    - `RGROW`\n",
    "    - `MEM`\n",
    "    - `CMD_index`\n",
    "\n",
    "- Process Dataframe:\n",
    "    - `TRUN`\n",
    "    - `TSLPU`\n",
    "    - `PID`\n",
    "    - `Status_index`\n",
    "\n",
    "We must reiterate that after internally observing the plots derived from Process, there do not seem to be many variables that will reliably allow a decision tree to create the decision rules that it would ideally use to classify a process into attack or non-attack. Here, I would hypothesis that a Decision Tree based on the Process Dataframe would not be very accurate or useful in predicting an attack.\n",
    "\n",
    "According to our textbook, *Learning Spark: Lightning-Fast Data Analytics*, Decision Trees are \"scale-invariant (i.e., standardizing or scaling the numeric features does not change the performance of the tree).\" With this in mind, we can proceed to identify transformers and estimators for our features:\n",
    "\n",
    "- `StringIndexer`: Required to convert categorical variables into numbers (already implemented prior to visualisation)\n",
    "- `VectorAssembler`: Required to create feature vectors to pass into our models as `inputCols`\n",
    "\n",
    "In this situation, we would not use `OneHotEnconder`, because a Decision Tree does not take into account the numeric relationships introduced between the different categories within a feature. If we were performing regression rather than classification, we would use `OneHotEncoder`."
   ]
  },
  {
   "cell_type": "markdown",
   "metadata": {},
   "source": [
    "## 2.2.2"
   ]
  },
  {
   "cell_type": "code",
   "execution_count": 38,
   "metadata": {
    "collapsed": true,
    "jupyter": {
     "outputs_hidden": true
    }
   },
   "outputs": [],
   "source": [
    "# Once again StringIndex our data to be on the safe side\n",
    "MstringColumns = [column for column in Memory.columns if Memory.select(column).dtypes[0][1] == 'string' and column not in ['attack','type']]\n",
    "PstringColumns = [column for column in Process.columns if Process.select(column).dtypes[0][1] == 'string' and column not in ['attack','type']]\n",
    "\n",
    "#Define the input columns\n",
    "MoutputCols=[f'{x}_index' for x in MstringColumns]\n",
    "PoutputCols=[f'{x}_index' for x in PstringColumns]\n",
    "\n",
    "Mindexer = StringIndexer(inputCols=MstringColumns, outputCols=MoutputCols)\n",
    "MtrainIndexed = Mindexer.fit(Mtrain).transform(Mtrain)\n",
    "MtestIndexed = Mindexer.fit(Mtest).transform(Mtest)\n",
    "\n",
    "Pindexer = StringIndexer(inputCols=PstringColumns, outputCols=PoutputCols)\n",
    "PtrainIndexed = Pindexer.fit(Ptrain).transform(Ptrain)\n",
    "PtestIndexed = Pindexer.fit(Ptest).transform(Ptest)\n",
    "\n",
    "# Rename column to be able to calculate evaluation statistics later\n",
    "MtrainIndexed = MtrainIndexed.withColumnRenamed('attack','label')\n",
    "MtestIndexed = MtestIndexed.withColumnRenamed('attack','label')\n",
    "\n",
    "PtrainIndexed = PtrainIndexed.withColumnRenamed('attack','label')\n",
    "PtestIndexed = PtestIndexed.withColumnRenamed('attack','label')"
   ]
  },
  {
   "cell_type": "code",
   "execution_count": 39,
   "metadata": {
    "collapsed": true,
    "jupyter": {
     "outputs_hidden": true
    }
   },
   "outputs": [],
   "source": [
    "# Lists of the features I have selected\n",
    "Mfeatures = ['MINFLT','VGROW','RGROW','MEM','CMD_index']\n",
    "Pfeatures = ['TRUN','TSLPU','PID','Status_index']"
   ]
  },
  {
   "cell_type": "markdown",
   "metadata": {},
   "source": [
    "## 2.2.3 - 2.3.2"
   ]
  },
  {
   "cell_type": "code",
   "execution_count": 84,
   "metadata": {},
   "outputs": [
    {
     "name": "stdout",
     "output_type": "stream",
     "text": [
      "DECISION TREE: \n",
      "+-----+----------+------+\n",
      "|label|prediction| count|\n",
      "+-----+----------+------+\n",
      "|    1|       0.0| 24182|\n",
      "|    0|       0.0|315932|\n",
      "|    1|       1.0| 17189|\n",
      "|    0|       1.0| 42692|\n",
      "+-----+----------+------+\n",
      "\n",
      "GRADIENT BOOSTED DECISION TREE: \n",
      "+-----+----------+------+\n",
      "|label|prediction| count|\n",
      "+-----+----------+------+\n",
      "|    1|       0.0| 17733|\n",
      "|    0|       0.0|250574|\n",
      "|    1|       1.0| 23638|\n",
      "|    0|       1.0|108050|\n",
      "+-----+----------+------+\n",
      "\n"
     ]
    }
   ],
   "source": [
    "# Assemble features into a vector\n",
    "Massembler = VectorAssembler(inputCols=Mfeatures, outputCol='features')\n",
    "\n",
    "# Initialise decision tree and GBT classifiers\n",
    "MdecisionTree = DecisionTreeClassifier(featuresCol = 'features', labelCol = 'label', maxDepth = 10)\n",
    "MgbTree = GBTClassifier(maxIter=100, maxDepth=10, featuresCol = 'features', labelCol='label', seed=42)\n",
    "\n",
    "# 2 pipelines; one for each classifier\n",
    "Mpipeline1 = Pipeline(stages=[Massembler, MdecisionTree])\n",
    "Mpipeline2 = Pipeline(stages=[Massembler, MgbTree])\n",
    "\n",
    "# set .setMaxBins to abnormally an high number to avoid errors\n",
    "MdecisionTree.setMaxBins(5000)\n",
    "MgbTree.setMaxBins(5000)\n",
    "\n",
    "# Fit the classifiers\n",
    "Mdt = Mpipeline1.fit(MtrainIndexed)\n",
    "Mgbt = Mpipeline2.fit(MtrainIndexed)\n",
    "\n",
    "# Transform test data\n",
    "MdtPredictions = Mdt.transform(MtestIndexed)\n",
    "MgbtPredictions = Mgbt.transform(MtestIndexed)\n",
    "\n",
    "# Get confusion matrices for each classifier\n",
    "print('DECISION TREE: ')\n",
    "MdtPredictions.select('label','prediction').groupBy('label','prediction').count().show()\n",
    "\n",
    "print('GRADIENT BOOSTED DECISION TREE: ')\n",
    "MgbtPredictions.select('label','prediction').groupBy('label','prediction').count().show()"
   ]
  },
  {
   "cell_type": "code",
   "execution_count": 121,
   "metadata": {},
   "outputs": [
    {
     "name": "stdout",
     "output_type": "stream",
     "text": [
      "DECISION TREE: \n",
      "+-----+----------+------+\n",
      "|label|prediction| count|\n",
      "+-----+----------+------+\n",
      "|    1|       0.0| 29798|\n",
      "|    0|       0.0|293545|\n",
      "|    1|       1.0| 28665|\n",
      "|    0|       1.0| 33729|\n",
      "+-----+----------+------+\n",
      "\n",
      "GRADIENT BOOSTED DECISION TREE: \n",
      "+-----+----------+------+\n",
      "|label|prediction| count|\n",
      "+-----+----------+------+\n",
      "|    1|       0.0| 25679|\n",
      "|    0|       0.0|293784|\n",
      "|    1|       1.0| 32784|\n",
      "|    0|       1.0| 33490|\n",
      "+-----+----------+------+\n",
      "\n"
     ]
    }
   ],
   "source": [
    "# Assemble features into a vector\n",
    "Passembler = VectorAssembler(inputCols=Pfeatures, outputCol='features')\n",
    "PTassembled = Passembler.transform(PtrainIndexed)\n",
    "\n",
    "# Initialise decision tree and GBT classifiers\n",
    "PdecisionTree = DecisionTreeClassifier(featuresCol = 'features', labelCol = 'label', maxDepth = 10)\n",
    "PgbTree = GBTClassifier(maxIter=100, maxDepth=10, featuresCol = 'features', labelCol='label', seed=42)\n",
    "\n",
    "# 2 pipelines; one for each classifier\n",
    "Ppipeline1 = Pipeline(stages=[Passembler, PdecisionTree])\n",
    "Ppipeline2 = Pipeline(stages=[Passembler, PgbTree])\n",
    "\n",
    "# set .setMaxBins to abnormally an high number to avoid errors\n",
    "PdecisionTree.setMaxBins(5000)\n",
    "PgbTree.setMaxBins(5000)\n",
    "\n",
    "# Fit the classifiers\n",
    "Pdt = Ppipeline1.fit(PtrainIndexed)\n",
    "Pgbt = Ppipeline2.fit(PtrainIndexed)\n",
    "\n",
    "# Transform test data\n",
    "PdtPredictions = Pdt.transform(PtestIndexed)\n",
    "PgbtPredictions = Pgbt.transform(PtestIndexed)\n",
    "\n",
    "# Get confusion matrices for each classifier\n",
    "print('DECISION TREE: ')\n",
    "PdtPredictions.select('label','prediction').groupBy('label','prediction').count().show()\n",
    "\n",
    "print('GRADIENT BOOSTED DECISION TREE: ')\n",
    "PgbtPredictions.select('label','prediction').groupBy('label','prediction').count().show()"
   ]
  },
  {
   "cell_type": "markdown",
   "metadata": {},
   "source": [
    "## 2.3.3"
   ]
  },
  {
   "cell_type": "code",
   "execution_count": 122,
   "metadata": {},
   "outputs": [],
   "source": [
    "# Define a function to help evaluate model performance\n",
    "\n",
    "modelDictionary = {MdtPredictions: 'MEMORY - DECISION TREE',\n",
    "                  MgbtPredictions: 'MEMORY - GRADIENT BOOSTED DECISION TREE',\n",
    "                  PdtPredictions: 'PROCESS - DECISION TREE',\n",
    "                  PgbtPredictions: 'PROCESS - GRADIENT BOOSTED DECISION TREE'}\n",
    "\n",
    "def evaluator(model):\n",
    "    \n",
    "    name = modelDictionary[model]\n",
    "    \n",
    "    print ('\\n')\n",
    "    print (name)\n",
    "\n",
    "    # Format the predictions dataframe; convert columns to double, convert DataFrame to RDD\n",
    "    model = model.select('label','prediction').withColumn('label',model.label.cast(DoubleType())).rdd\n",
    "    \n",
    "    # Initialise libraries to help with model evaluation\n",
    "    MultiClass = MulticlassMetrics(model)\n",
    "    Binary = BinaryClassificationMetrics(model)\n",
    "    \n",
    "    AUC = Binary.areaUnderROC\n",
    "    Accuracy = MultiClass.accuracy\n",
    "    \n",
    "    Recall0 = MultiClass.recall(0)\n",
    "    Recall1 = MultiClass.recall(1)\n",
    "    \n",
    "    Precision0 = MultiClass.precision(0)\n",
    "    Precision1 = MultiClass.precision(1)\n",
    "   \n",
    "    # Also learn FPR and TPR to plot the ROC with\n",
    "    FPR0 = MultiClass.falsePositiveRate(0.0)\n",
    "    FPR1 = MultiClass.falsePositiveRate(1.0)\n",
    "    \n",
    "    TPR0 = MultiClass.truePositiveRate(0.0)\n",
    "    TPR1 = MultiClass.truePositiveRate(1.0)\n",
    "    \n",
    "    print ('\\nAUC: ',AUC)\n",
    "    print ('Accuracy: ',Accuracy)\n",
    "    \n",
    "    print ('\\nRecall of Label 0 (Non-Attack): ',Recall0)\n",
    "    print ('Recall of Label 1 (Attack): ',Recall1)\n",
    "    \n",
    "    print ('\\nPrecision of Label 0 (Non-Attack): ',Precision0)\n",
    "    print ('Precision of Label 1 (Attack): ',Precision1)\n",
    "    \n",
    "    print('\\nROC CURVE:\\n')\n",
    "    \n",
    "    x = [FPR0,FPR1]\n",
    "    y = [TPR0,TPR1]\n",
    "    \n",
    "    # Plot the ROC\n",
    "    plt.plot(x,y)\n",
    "    plt.title(name)\n",
    "    plt.xlabel('FPR')\n",
    "    plt.ylabel('TPR')\n",
    "    plt.show()"
   ]
  },
  {
   "cell_type": "code",
   "execution_count": 126,
   "metadata": {},
   "outputs": [
    {
     "ename": "IllegalArgumentException",
     "evalue": "features does not exist. Available: ts, PID, TRUN, TSLPI, TSLPU, POLI, NICE, PRI, RTPR, CPUNR, Status, EXC, State, CPU, CMD, label, type, POLI_index, State_index, Status_index, CMD_index, NICE_index",
     "output_type": "error",
     "traceback": [
      "\u001b[0;31m---------------------------------------------------------------------------\u001b[0m",
      "\u001b[0;31mIllegalArgumentException\u001b[0m                  Traceback (most recent call last)",
      "\u001b[0;32m<ipython-input-126-3c512c262175>\u001b[0m in \u001b[0;36m<module>\u001b[0;34m\u001b[0m\n\u001b[1;32m      1\u001b[0m \u001b[0mPassembled\u001b[0m \u001b[0;34m=\u001b[0m \u001b[0mPassembler\u001b[0m\u001b[0;34m.\u001b[0m\u001b[0mtransform\u001b[0m\u001b[0;34m(\u001b[0m\u001b[0mPtrainIndexed\u001b[0m\u001b[0;34m)\u001b[0m\u001b[0;34m\u001b[0m\u001b[0;34m\u001b[0m\u001b[0m\n\u001b[1;32m      2\u001b[0m \u001b[0mPdt1\u001b[0m \u001b[0;34m=\u001b[0m \u001b[0mPdecisionTree\u001b[0m\u001b[0;34m.\u001b[0m\u001b[0mfit\u001b[0m\u001b[0;34m(\u001b[0m\u001b[0mPassembled\u001b[0m\u001b[0;34m)\u001b[0m\u001b[0;34m\u001b[0m\u001b[0;34m\u001b[0m\u001b[0m\n\u001b[0;32m----> 3\u001b[0;31m \u001b[0mPdt2\u001b[0m \u001b[0;34m=\u001b[0m \u001b[0mPdt1\u001b[0m\u001b[0;34m.\u001b[0m\u001b[0mtransform\u001b[0m\u001b[0;34m(\u001b[0m\u001b[0mPtestIndexed\u001b[0m\u001b[0;34m)\u001b[0m\u001b[0;34m\u001b[0m\u001b[0;34m\u001b[0m\u001b[0m\n\u001b[0m",
      "\u001b[0;32m~/opt/anaconda3/lib/python3.8/site-packages/pyspark/ml/base.py\u001b[0m in \u001b[0;36mtransform\u001b[0;34m(self, dataset, params)\u001b[0m\n\u001b[1;32m    215\u001b[0m                 \u001b[0;32mreturn\u001b[0m \u001b[0mself\u001b[0m\u001b[0;34m.\u001b[0m\u001b[0mcopy\u001b[0m\u001b[0;34m(\u001b[0m\u001b[0mparams\u001b[0m\u001b[0;34m)\u001b[0m\u001b[0;34m.\u001b[0m\u001b[0m_transform\u001b[0m\u001b[0;34m(\u001b[0m\u001b[0mdataset\u001b[0m\u001b[0;34m)\u001b[0m\u001b[0;34m\u001b[0m\u001b[0;34m\u001b[0m\u001b[0m\n\u001b[1;32m    216\u001b[0m             \u001b[0;32melse\u001b[0m\u001b[0;34m:\u001b[0m\u001b[0;34m\u001b[0m\u001b[0;34m\u001b[0m\u001b[0m\n\u001b[0;32m--> 217\u001b[0;31m                 \u001b[0;32mreturn\u001b[0m \u001b[0mself\u001b[0m\u001b[0;34m.\u001b[0m\u001b[0m_transform\u001b[0m\u001b[0;34m(\u001b[0m\u001b[0mdataset\u001b[0m\u001b[0;34m)\u001b[0m\u001b[0;34m\u001b[0m\u001b[0;34m\u001b[0m\u001b[0m\n\u001b[0m\u001b[1;32m    218\u001b[0m         \u001b[0;32melse\u001b[0m\u001b[0;34m:\u001b[0m\u001b[0;34m\u001b[0m\u001b[0;34m\u001b[0m\u001b[0m\n\u001b[1;32m    219\u001b[0m             \u001b[0;32mraise\u001b[0m \u001b[0mValueError\u001b[0m\u001b[0;34m(\u001b[0m\u001b[0;34m\"Params must be a param map but got %s.\"\u001b[0m \u001b[0;34m%\u001b[0m \u001b[0mtype\u001b[0m\u001b[0;34m(\u001b[0m\u001b[0mparams\u001b[0m\u001b[0;34m)\u001b[0m\u001b[0;34m)\u001b[0m\u001b[0;34m\u001b[0m\u001b[0;34m\u001b[0m\u001b[0m\n",
      "\u001b[0;32m~/opt/anaconda3/lib/python3.8/site-packages/pyspark/ml/wrapper.py\u001b[0m in \u001b[0;36m_transform\u001b[0;34m(self, dataset)\u001b[0m\n\u001b[1;32m    348\u001b[0m     \u001b[0;32mdef\u001b[0m \u001b[0m_transform\u001b[0m\u001b[0;34m(\u001b[0m\u001b[0mself\u001b[0m\u001b[0;34m,\u001b[0m \u001b[0mdataset\u001b[0m\u001b[0;34m)\u001b[0m\u001b[0;34m:\u001b[0m\u001b[0;34m\u001b[0m\u001b[0;34m\u001b[0m\u001b[0m\n\u001b[1;32m    349\u001b[0m         \u001b[0mself\u001b[0m\u001b[0;34m.\u001b[0m\u001b[0m_transfer_params_to_java\u001b[0m\u001b[0;34m(\u001b[0m\u001b[0;34m)\u001b[0m\u001b[0;34m\u001b[0m\u001b[0;34m\u001b[0m\u001b[0m\n\u001b[0;32m--> 350\u001b[0;31m         \u001b[0;32mreturn\u001b[0m \u001b[0mDataFrame\u001b[0m\u001b[0;34m(\u001b[0m\u001b[0mself\u001b[0m\u001b[0;34m.\u001b[0m\u001b[0m_java_obj\u001b[0m\u001b[0;34m.\u001b[0m\u001b[0mtransform\u001b[0m\u001b[0;34m(\u001b[0m\u001b[0mdataset\u001b[0m\u001b[0;34m.\u001b[0m\u001b[0m_jdf\u001b[0m\u001b[0;34m)\u001b[0m\u001b[0;34m,\u001b[0m \u001b[0mdataset\u001b[0m\u001b[0;34m.\u001b[0m\u001b[0msql_ctx\u001b[0m\u001b[0;34m)\u001b[0m\u001b[0;34m\u001b[0m\u001b[0;34m\u001b[0m\u001b[0m\n\u001b[0m\u001b[1;32m    351\u001b[0m \u001b[0;34m\u001b[0m\u001b[0m\n\u001b[1;32m    352\u001b[0m \u001b[0;34m\u001b[0m\u001b[0m\n",
      "\u001b[0;32m~/opt/anaconda3/lib/python3.8/site-packages/py4j/java_gateway.py\u001b[0m in \u001b[0;36m__call__\u001b[0;34m(self, *args)\u001b[0m\n\u001b[1;32m   1302\u001b[0m \u001b[0;34m\u001b[0m\u001b[0m\n\u001b[1;32m   1303\u001b[0m         \u001b[0manswer\u001b[0m \u001b[0;34m=\u001b[0m \u001b[0mself\u001b[0m\u001b[0;34m.\u001b[0m\u001b[0mgateway_client\u001b[0m\u001b[0;34m.\u001b[0m\u001b[0msend_command\u001b[0m\u001b[0;34m(\u001b[0m\u001b[0mcommand\u001b[0m\u001b[0;34m)\u001b[0m\u001b[0;34m\u001b[0m\u001b[0;34m\u001b[0m\u001b[0m\n\u001b[0;32m-> 1304\u001b[0;31m         return_value = get_return_value(\n\u001b[0m\u001b[1;32m   1305\u001b[0m             answer, self.gateway_client, self.target_id, self.name)\n\u001b[1;32m   1306\u001b[0m \u001b[0;34m\u001b[0m\u001b[0m\n",
      "\u001b[0;32m~/opt/anaconda3/lib/python3.8/site-packages/pyspark/sql/utils.py\u001b[0m in \u001b[0;36mdeco\u001b[0;34m(*a, **kw)\u001b[0m\n\u001b[1;32m    115\u001b[0m                 \u001b[0;31m# Hide where the exception came from that shows a non-Pythonic\u001b[0m\u001b[0;34m\u001b[0m\u001b[0;34m\u001b[0m\u001b[0;34m\u001b[0m\u001b[0m\n\u001b[1;32m    116\u001b[0m                 \u001b[0;31m# JVM exception message.\u001b[0m\u001b[0;34m\u001b[0m\u001b[0;34m\u001b[0m\u001b[0;34m\u001b[0m\u001b[0m\n\u001b[0;32m--> 117\u001b[0;31m                 \u001b[0;32mraise\u001b[0m \u001b[0mconverted\u001b[0m \u001b[0;32mfrom\u001b[0m \u001b[0;32mNone\u001b[0m\u001b[0;34m\u001b[0m\u001b[0;34m\u001b[0m\u001b[0m\n\u001b[0m\u001b[1;32m    118\u001b[0m             \u001b[0;32melse\u001b[0m\u001b[0;34m:\u001b[0m\u001b[0;34m\u001b[0m\u001b[0;34m\u001b[0m\u001b[0m\n\u001b[1;32m    119\u001b[0m                 \u001b[0;32mraise\u001b[0m\u001b[0;34m\u001b[0m\u001b[0;34m\u001b[0m\u001b[0m\n",
      "\u001b[0;31mIllegalArgumentException\u001b[0m: features does not exist. Available: ts, PID, TRUN, TSLPI, TSLPU, POLI, NICE, PRI, RTPR, CPUNR, Status, EXC, State, CPU, CMD, label, type, POLI_index, State_index, Status_index, CMD_index, NICE_index"
     ]
    }
   ],
   "source": [
    "Passembled = Passembler.transform(PtrainIndexed)\n",
    "Pdt1 = PdecisionTree.fit(Passembled)\n",
    "Pdt2 = Pdt1.transform(PtestIndexed)"
   ]
  },
  {
   "cell_type": "code",
   "execution_count": 125,
   "metadata": {},
   "outputs": [
    {
     "ename": "AttributeError",
     "evalue": "'DecisionTreeClassificationModel' object has no attribute 'select'",
     "output_type": "error",
     "traceback": [
      "\u001b[0;31m---------------------------------------------------------------------------\u001b[0m",
      "\u001b[0;31mAttributeError\u001b[0m                            Traceback (most recent call last)",
      "\u001b[0;32m<ipython-input-125-5abad13e3f3c>\u001b[0m in \u001b[0;36m<module>\u001b[0;34m\u001b[0m\n\u001b[0;32m----> 1\u001b[0;31m \u001b[0mPdt1\u001b[0m\u001b[0;34m.\u001b[0m\u001b[0mselect\u001b[0m\u001b[0;34m(\u001b[0m\u001b[0;34m'label'\u001b[0m\u001b[0;34m,\u001b[0m\u001b[0;34m'prediction'\u001b[0m\u001b[0;34m)\u001b[0m\u001b[0;34m.\u001b[0m\u001b[0mshow\u001b[0m\u001b[0;34m(\u001b[0m\u001b[0;36m5\u001b[0m\u001b[0;34m)\u001b[0m\u001b[0;34m\u001b[0m\u001b[0;34m\u001b[0m\u001b[0m\n\u001b[0m",
      "\u001b[0;31mAttributeError\u001b[0m: 'DecisionTreeClassificationModel' object has no attribute 'select'"
     ]
    }
   ],
   "source": [
    "Pdt2"
   ]
  },
  {
   "cell_type": "code",
   "execution_count": 46,
   "metadata": {
    "collapsed": true,
    "jupyter": {
     "outputs_hidden": true
    }
   },
   "outputs": [
    {
     "ename": "AttributeError",
     "evalue": "'VectorAssembler' object has no attribute 'summary'",
     "output_type": "error",
     "traceback": [
      "\u001b[0;31m---------------------------------------------------------------------------\u001b[0m",
      "\u001b[0;31mAttributeError\u001b[0m                            Traceback (most recent call last)",
      "\u001b[0;32m<ipython-input-46-b2d34eb39ab7>\u001b[0m in \u001b[0;36m<module>\u001b[0;34m\u001b[0m\n\u001b[0;32m----> 1\u001b[0;31m \u001b[0mtrainingSummary\u001b[0m \u001b[0;34m=\u001b[0m \u001b[0mPdt\u001b[0m\u001b[0;34m.\u001b[0m\u001b[0mstages\u001b[0m\u001b[0;34m[\u001b[0m\u001b[0;34m-\u001b[0m\u001b[0;36m2\u001b[0m\u001b[0;34m]\u001b[0m\u001b[0;34m.\u001b[0m\u001b[0msummary\u001b[0m\u001b[0;34m\u001b[0m\u001b[0;34m\u001b[0m\u001b[0m\n\u001b[0m\u001b[1;32m      2\u001b[0m \u001b[0mroc\u001b[0m \u001b[0;34m=\u001b[0m \u001b[0mtrainingSummary\u001b[0m\u001b[0;34m.\u001b[0m\u001b[0mroc\u001b[0m\u001b[0;34m.\u001b[0m\u001b[0mtoPandas\u001b[0m\u001b[0;34m(\u001b[0m\u001b[0;34m)\u001b[0m\u001b[0;34m\u001b[0m\u001b[0;34m\u001b[0m\u001b[0m\n\u001b[1;32m      3\u001b[0m \u001b[0mplt\u001b[0m\u001b[0;34m.\u001b[0m\u001b[0mplot\u001b[0m\u001b[0;34m(\u001b[0m\u001b[0mroc\u001b[0m\u001b[0;34m[\u001b[0m\u001b[0;34m'FPR'\u001b[0m\u001b[0;34m]\u001b[0m\u001b[0;34m,\u001b[0m\u001b[0mroc\u001b[0m\u001b[0;34m[\u001b[0m\u001b[0;34m'TPR'\u001b[0m\u001b[0;34m]\u001b[0m\u001b[0;34m)\u001b[0m\u001b[0;34m\u001b[0m\u001b[0;34m\u001b[0m\u001b[0m\n\u001b[1;32m      4\u001b[0m \u001b[0mplt\u001b[0m\u001b[0;34m.\u001b[0m\u001b[0mylabel\u001b[0m\u001b[0;34m(\u001b[0m\u001b[0;34m'TPR'\u001b[0m\u001b[0;34m)\u001b[0m\u001b[0;34m\u001b[0m\u001b[0;34m\u001b[0m\u001b[0m\n\u001b[1;32m      5\u001b[0m \u001b[0mplt\u001b[0m\u001b[0;34m.\u001b[0m\u001b[0mxlabel\u001b[0m\u001b[0;34m(\u001b[0m\u001b[0;34m'FPR'\u001b[0m\u001b[0;34m)\u001b[0m\u001b[0;34m\u001b[0m\u001b[0;34m\u001b[0m\u001b[0m\n",
      "\u001b[0;31mAttributeError\u001b[0m: 'VectorAssembler' object has no attribute 'summary'"
     ]
    }
   ],
   "source": [
    "trainingSummary = Pdt.stages[-2].summary\n",
    "roc = trainingSummary.roc.toPandas()\n",
    "plt.plot(roc['FPR'],roc['TPR'])\n",
    "plt.ylabel('TPR')\n",
    "plt.xlabel('FPR')\n",
    "plt.title('ROC Curve')\n",
    "plt.show()"
   ]
  },
  {
   "cell_type": "markdown",
   "metadata": {},
   "source": [
    "## 2.3.4"
   ]
  },
  {
   "cell_type": "code",
   "execution_count": null,
   "metadata": {
    "collapsed": true,
    "jupyter": {
     "outputs_hidden": true
    }
   },
   "outputs": [],
   "source": [
    "models = [Mdt,Mgbt,Pdt,Pgbt]\n",
    "modelNames = ['MEMORY - DECISION TREE','MEMORY - GRADIENT BOOSTED DECISION TREE','PROCESS - DECISION TREE','PROCESS - GRADIENT BOOSTED DECISION TREE']\n",
    "\n",
    "featuresDictionary = {Mdt:Mfeatures,\n",
    "                     Mgbt:Mfeatures,\n",
    "                     Pdt:Pfeatures,\n",
    "                     Pgbt:Pfeatures}\n",
    "\n",
    "# Get most important features\n",
    "for model in models:\n",
    "    print('\\n')\n",
    "    print(modelNames[models.index(model)])\n",
    "    print(pd.DataFrame(list(zip(featuresDictionary[model],model.stages[-1].featureImportances))).sort_values(by=1,ascending=False))\n",
    "    print('\\n')"
   ]
  },
  {
   "cell_type": "markdown",
   "metadata": {},
   "source": [
    "We can now see the top-most important features for each Dataframe and classifier. For Process, I was only able to select 4 features, as the visualisations did not demonstrate any noticeable separability in other features.\n",
    "\n",
    "In this situation, since our priority is to identify attacks, it would make sense to primarily consider Recall so that we can know how many of the true attacks were correctly identified as attacks. Having decided on this, we can see that we have quite a poor rate of Recall on Label 1 across all 4 categories.\n",
    "\n",
    "- MEMORY: MEMORY - DECISION TREE has the highest value for every included statistic.\n",
    "\n",
    "- PROCESS: ROCESS - GRADIENT BOOSTED DECISION TREE has the highest value for every included statistic.\n",
    "\n",
    "ROC Curves for the two are included below in the following cells:"
   ]
  },
  {
   "cell_type": "code",
   "execution_count": null,
   "metadata": {
    "collapsed": true,
    "jupyter": {
     "outputs_hidden": true
    }
   },
   "outputs": [],
   "source": [
    "trainingSummary = lrModel.summary\n",
    "roc = trainingSummary.roc.toPandas()\n",
    "plt.plot(roc['FPR'],roc['TPR'])\n",
    "plt.ylabel('TPR')\n",
    "plt.xlabel('FPR')\n",
    "plt.title('ROC Curve')\n",
    "plt.show()"
   ]
  },
  {
   "cell_type": "code",
   "execution_count": null,
   "metadata": {
    "collapsed": true,
    "jupyter": {
     "outputs_hidden": true
    }
   },
   "outputs": [],
   "source": [
    "# Define a function to help evaluate model performance\n",
    "\n",
    "modelDictionary = {MdtPredictions: 'MEMORY - DECISION TREE',\n",
    "                  MgbtPredictions: 'MEMORY - GRADIENT BOOSTED DECISION TREE',\n",
    "                  PdtPredictions: 'PROCESS - DECISION TREE',\n",
    "                  PgbtPredictions: 'PROCESS - GRADIENT BOOSTED DECISION TREE'}\n",
    "\n",
    "def ROC(model):\n",
    "    \n",
    "    name = modelDictionary[model]\n",
    "    print ('\\n')\n",
    "    print (name)\n",
    "\n",
    "    # Format the predictions dataframe; convert columns to double, convert DataFrame to RDD\n",
    "    model = model.select('label','prediction').withColumn('label',model.label.cast(DoubleType())).rdd\n",
    "    \n",
    "    # Initialise libraries to help with model evaluation\n",
    "    MultiClass = MulticlassMetrics(model)\n",
    "    Binary = BinaryClassificationMetrics(model)\n",
    "   \n",
    "    # Also learn FPR and TPR to plot the ROC with\n",
    "    FPR0 = MultiClass.falsePositiveRate(0.0)\n",
    "    FPR1 = MultiClass.falsePositiveRate(1.0)\n",
    "    \n",
    "    TPR0 = MultiClass.truePositiveRate(0.0)\n",
    "    TPR1 = MultiClass.truePositiveRate(1.0)\n",
    "    \n",
    "    print('\\nROC CURVE:\\n')\n",
    "    \n",
    "    x = [FPR0,FPR1]\n",
    "    y = [TPR0,TPR1]\n",
    "    \n",
    "    # Plot the ROC\n",
    "    plt.plot(x,y)\n",
    "    plt.title(name)\n",
    "    plt.xlabel('FPR')\n",
    "    plt.ylabel('TPR')\n",
    "    plt.show()\n",
    "    \n",
    "for model in [MdtPredictions, PgbtPredictions]:\n",
    "    ROC(model)"
   ]
  },
  {
   "cell_type": "markdown",
   "metadata": {},
   "source": [
    "`ts` should **NOT** be included in this model, mainly because the metadata file informs us that it represents a timestamp. We have already seen in our visualisations that `attack` is highly dependent on `ts`, as the data includes a clearly visible set of times when the system was being consecutively attacked. If the decision tree were allowed to base its decisions on `ts`, it would split on `ts`, and be able to accurately determine (on the test set) whether or not an attack was taking place.\n",
    "\n",
    "Unfortunately, this is not generalisable. The model will never see those timestamps again, and the model will therefore be unable to account for future times. So, including `ts` would mean that the model would see ~100% accuracy on the training and test data, but will be far less accurate on future, unseen data."
   ]
  },
  {
   "cell_type": "markdown",
   "metadata": {},
   "source": [
    "\n",
    "\n",
    "`ts` should not be included in the model because it is a time-stamp, and is not generalisable; It will never repeat, and so any rule-based prediction on its value will only be accurate for the training dataset, and not future data."
   ]
  },
  {
   "cell_type": "markdown",
   "metadata": {},
   "source": [
    "## 2.3.5"
   ]
  },
  {
   "cell_type": "code",
   "execution_count": null,
   "metadata": {
    "collapsed": true,
    "jupyter": {
     "outputs_hidden": true
    }
   },
   "outputs": [],
   "source": [
    "Memory.groupBy(\"attack\").count().orderBy(\"attack\").show()\n",
    "Process.groupBy(\"attack\").count().orderBy(\"attack\").show()"
   ]
  },
  {
   "cell_type": "markdown",
   "metadata": {},
   "source": [
    "We want a new Mtrain dataset such that:\n",
    "\n",
    "- There are 205,623 attack rows (100% of attack rows)\n",
    "- There are 411,246 non-attack rows (23% of non-attack rows)\n",
    "\n",
    "We want a new Ptrain dataset such that:\n",
    "- There are 291,634 attack rows (100% of attack rows)\n",
    "- There are 583,268 non-attack rows (36% of non-attack rows)\n",
    "\n",
    "I am unclear on this, but I assume that all data not included in these new training datasets are part of the testing dataset."
   ]
  },
  {
   "cell_type": "code",
   "execution_count": null,
   "metadata": {
    "collapsed": true,
    "jupyter": {
     "outputs_hidden": true
    }
   },
   "outputs": [],
   "source": [
    "Mtrain2 = Memory.sampleBy(\"attack\", fractions={0: 0.23, 1: 1}, seed=42)\n",
    "Ptrain2 = Process.sampleBy(\"attack\", fractions={0: 0.36, 1: 1}, seed=42)"
   ]
  },
  {
   "cell_type": "code",
   "execution_count": null,
   "metadata": {
    "collapsed": true,
    "jupyter": {
     "outputs_hidden": true
    }
   },
   "outputs": [],
   "source": [
    "#Mtest2 = Memory.join(Mtrain2,(\"ts\"),\"leftanti\")\n",
    "#Ptest2 = Process.join(Ptrain2,(\"ts\"),\"leftanti\")"
   ]
  },
  {
   "cell_type": "code",
   "execution_count": null,
   "metadata": {
    "collapsed": true,
    "jupyter": {
     "outputs_hidden": true
    }
   },
   "outputs": [],
   "source": [
    "MstringColumns = [column for column in Memory.columns if Memory.select(column).dtypes[0][1] == 'string' and column not in ['attack','type']]\n",
    "PstringColumns = [column for column in Process.columns if Process.select(column).dtypes[0][1] == 'string' and column not in ['attack','type']]\n",
    "\n",
    "#Define the input columns\n",
    "MoutputCols=[f'{x}_index' for x in MstringColumns]\n",
    "PoutputCols=[f'{x}_index' for x in PstringColumns]\n",
    "\n",
    "Mindexer = StringIndexer(inputCols=MstringColumns, outputCols=MoutputCols)\n",
    "MtrainIndexed = Mindexer.fit(Mtrain2).transform(Mtrain2)\n",
    "#MtestIndexed = Mindexer.fit(Mtest2).transform(Mtest2)\n",
    "\n",
    "Pindexer = StringIndexer(inputCols=PstringColumns, outputCols=PoutputCols)\n",
    "PtrainIndexed = Pindexer.fit(Ptrain2).transform(Ptrain2)\n",
    "#PtestIndexed = Pindexer.fit(Ptest2).transform(Ptest2)\n",
    "\n",
    "MtrainIndexed = MtrainIndexed.withColumnRenamed('attack','label')\n",
    "#MtestIndexed = MtestIndexed.withColumnRenamed('attack','label')\n",
    "\n",
    "PtrainIndexed = PtrainIndexed.withColumnRenamed('attack','label')\n",
    "#PtestIndexed = PtestIndexed.withColumnRenamed('attack','label')"
   ]
  },
  {
   "cell_type": "code",
   "execution_count": null,
   "metadata": {
    "collapsed": true,
    "jupyter": {
     "outputs_hidden": true
    }
   },
   "outputs": [],
   "source": [
    "Massembler = VectorAssembler(inputCols=Mfeatures, outputCol='features')\n",
    "\n",
    "MdecisionTree2 = DecisionTreeClassifier(featuresCol = 'features', labelCol = 'label', maxDepth = 10)\n",
    "MgbTree2 = GBTClassifier(maxIter=100, maxDepth=10, featuresCol = 'features', labelCol='label', seed=42)\n",
    "\n",
    "Mpipeline12 = Pipeline(stages=[Massembler, MdecisionTree])\n",
    "Mpipeline22 = Pipeline(stages=[Massembler, MgbTree])\n",
    "\n",
    "MdecisionTree2.setMaxBins(5000)\n",
    "MgbTree2.setMaxBins(5000)\n",
    "Mdt2 = Mpipeline12.fit(MtrainIndexed)\n",
    "Mgbt2 = Mpipeline22.fit(MtrainIndexed)\n",
    "\n",
    "MdtPredictions = Mdt2.transform(MtestIndexed)\n",
    "MgbtPredictions = Mgbt2.transform(MtestIndexed)\n",
    "\n",
    "print('DECISION TREE: ')\n",
    "MdtPredictions.select('label','prediction').groupBy('label','prediction').count().show()\n",
    "\n",
    "print('GRADIENT BOOSTED DECISION TREE: ')\n",
    "MgbtPredictions.select('label','prediction').groupBy('label','prediction').count().show()"
   ]
  },
  {
   "cell_type": "code",
   "execution_count": null,
   "metadata": {
    "collapsed": true,
    "jupyter": {
     "outputs_hidden": true
    }
   },
   "outputs": [],
   "source": [
    "Passembler = VectorAssembler(inputCols=Pfeatures, outputCol='features')\n",
    "\n",
    "PdecisionTree2 = DecisionTreeClassifier(featuresCol = 'features', labelCol = 'label', maxDepth = 10)\n",
    "PgbTree2 = GBTClassifier(maxIter=100, maxDepth=10, featuresCol = 'features', labelCol='label', seed=42)\n",
    "\n",
    "Ppipeline12 = Pipeline(stages=[Passembler, PdecisionTree])\n",
    "Ppipeline22 = Pipeline(stages=[Passembler, PgbTree])\n",
    "\n",
    "PdecisionTree2.setMaxBins(5000)\n",
    "PgbTree2.setMaxBins(5000)\n",
    "Pdt2 = Ppipeline12.fit(PtrainIndexed)\n",
    "Pgbt2 = Ppipeline22.fit(PtrainIndexed)\n",
    "\n",
    "PdtPredictions = Pdt2.transform(PtestIndexed)\n",
    "PgbtPredictions = Pgbt2.transform(PtestIndexed)\n",
    "\n",
    "print('DECISION TREE: ')\n",
    "PdtPredictions.select('label','prediction').groupBy('label','prediction').count().show()\n",
    "\n",
    "print('GRADIENT BOOSTED DECISION TREE: ')\n",
    "PgbtPredictions.select('label','prediction').groupBy('label','prediction').count().show()"
   ]
  },
  {
   "cell_type": "code",
   "execution_count": null,
   "metadata": {
    "collapsed": true,
    "jupyter": {
     "outputs_hidden": true
    }
   },
   "outputs": [],
   "source": [
    "# Define a function to help evaluate model performance\n",
    "\n",
    "modelDictionary = {MdtPredictions: 'MEMORY - DECISION TREE',\n",
    "                  MgbtPredictions: 'MEMORY - GRADIENT BOOSTED DECISION TREE',\n",
    "                  PdtPredictions: 'PROCESS - DECISION TREE',\n",
    "                  PgbtPredictions: 'PROCESS - GRADIENT BOOSTED DECISION TREE'}\n",
    "\n",
    "def evaluator(model):\n",
    "    \n",
    "    name = modelDictionary[model]\n",
    "    \n",
    "    print ('\\n')\n",
    "    print (name)\n",
    "\n",
    "    # Format the predictions dataframe; convert columns to double, convert DataFrame to RDD\n",
    "    model = model.select('label','prediction').withColumn('label',model.label.cast(DoubleType())).rdd\n",
    "    \n",
    "    # Initialise libraries to help with model evaluation\n",
    "    MultiClass = MulticlassMetrics(model)\n",
    "    Binary = BinaryClassificationMetrics(model)\n",
    "    \n",
    "    AUC = Binary.areaUnderROC\n",
    "    Accuracy = MultiClass.accuracy\n",
    "    \n",
    "    Recall0 = MultiClass.recall(0)\n",
    "    Recall1 = MultiClass.recall(1)\n",
    "    \n",
    "    Precision0 = MultiClass.precision(0)\n",
    "    Precision1 = MultiClass.precision(1)\n",
    "   \n",
    "    # Also learn FPR and TPR to plot the ROC with\n",
    "    FPR0 = MultiClass.falsePositiveRate(0.0)\n",
    "    FPR1 = MultiClass.falsePositiveRate(1.0)\n",
    "    \n",
    "    TPR0 = MultiClass.truePositiveRate(0.0)\n",
    "    TPR1 = MultiClass.truePositiveRate(1.0)\n",
    "    \n",
    "    print ('\\nAUC: ',AUC)\n",
    "    print ('Accuracy: ',Accuracy)\n",
    "    \n",
    "    print ('\\nRecall of Label 0 (Non-Attack): ',Recall0)\n",
    "    print ('Recall of Label 1 (Attack): ',Recall1)\n",
    "    \n",
    "    print ('\\nPrecision of Label 0 (Non-Attack): ',Precision0)\n",
    "    print ('Precision of Label 1 (Attack): ',Precision1)\n",
    "    \n",
    "    print('\\nROC CURVE:\\n')\n",
    "    \n",
    "    x = [FPR0,FPR1]\n",
    "    y = [TPR0,TPR1]\n",
    "    \n",
    "    # Plot the ROC\n",
    "    plt.plot(x,y)\n",
    "    plt.title(name)\n",
    "    plt.xlabel('FPR')\n",
    "    plt.ylabel('TPR')\n",
    "    plt.show()"
   ]
  },
  {
   "cell_type": "code",
   "execution_count": null,
   "metadata": {
    "collapsed": true,
    "jupyter": {
     "outputs_hidden": true
    }
   },
   "outputs": [],
   "source": [
    "for model in [MdtPredictions, MgbtPredictions, PdtPredictions, PgbtPredictions]:\n",
    "    evaluator (model)"
   ]
  },
  {
   "cell_type": "markdown",
   "metadata": {},
   "source": [
    "- Memory: The better model is our second Decision Tree, on the rebalaned training data\n",
    "- Process: The better model is our second Gradient Boosted Decision Tree, on the rebalanced training data\n",
    "\n",
    "They are saved:"
   ]
  },
  {
   "cell_type": "code",
   "execution_count": null,
   "metadata": {
    "collapsed": true,
    "jupyter": {
     "outputs_hidden": true
    }
   },
   "outputs": [],
   "source": [
    "PgbTree2.save('ProcessGBT2')\n",
    "MdecisionTree2.save('MemoryDT2')"
   ]
  }
 ],
 "metadata": {
  "kernelspec": {
   "display_name": "Python 3",
   "language": "python",
   "name": "python3"
  },
  "language_info": {
   "codemirror_mode": {
    "name": "ipython",
    "version": 3
   },
   "file_extension": ".py",
   "mimetype": "text/x-python",
   "name": "python",
   "nbconvert_exporter": "python",
   "pygments_lexer": "ipython3",
   "version": "3.8.5"
  }
 },
 "nbformat": 4,
 "nbformat_minor": 4
}
